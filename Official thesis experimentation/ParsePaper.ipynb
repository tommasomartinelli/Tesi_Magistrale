{
 "cells": [
  {
   "cell_type": "code",
   "execution_count": 1,
   "metadata": {},
   "outputs": [],
   "source": [
    "import nest_asyncio\n",
    "\n",
    "nest_asyncio.apply()"
   ]
  },
  {
   "cell_type": "code",
   "execution_count": 2,
   "metadata": {},
   "outputs": [],
   "source": [
    "import os\n",
    "\n",
    "os.environ[\"LLAMA_CLOUD_API_KEY\"] = \"llx-JjXkjg0iogyUW7DMN1f0ggnvhOgODc4hznCyjMoovwV7PlLT\""
   ]
  },
  {
   "cell_type": "code",
   "execution_count": 3,
   "metadata": {},
   "outputs": [],
   "source": [
    "from llama_parse import LlamaParse\n",
    "import os"
   ]
  },
  {
   "cell_type": "code",
   "execution_count": 4,
   "metadata": {},
   "outputs": [
    {
     "name": "stdout",
     "output_type": "stream",
     "text": [
      "The path exists and is not empty.\n"
     ]
    }
   ],
   "source": [
    "pdf_directory = './paper/paper2'\n",
    "\n",
    "if not os.path.exists(pdf_directory) or not os.listdir(pdf_directory):\n",
    "    print(\"The specified path is empty or does not exist.\")\n",
    "else:\n",
    "    print(\"The path exists and is not empty.\")"
   ]
  },
  {
   "cell_type": "code",
   "execution_count": 5,
   "metadata": {},
   "outputs": [],
   "source": [
    "txt_directory = './input'\n",
    "os.makedirs(txt_directory, exist_ok=True)"
   ]
  },
  {
   "cell_type": "code",
   "execution_count": 6,
   "metadata": {},
   "outputs": [],
   "source": [
    "parser = LlamaParse(result_type=\"markdown\")"
   ]
  },
  {
   "cell_type": "code",
   "execution_count": 7,
   "metadata": {},
   "outputs": [
    {
     "name": "stdout",
     "output_type": "stream",
     "text": [
      "Started parsing the file under job_id 0ecad380-c4ba-43e3-8ffa-9c1681c15ecd\n",
      ".......................Elaborato Chronos.pdf e salvato come Chronos.txt\n",
      "Started parsing the file under job_id a1c4b2bc-7752-4605-9f40-4a50726ddfa7\n",
      ".....Elaborato Timesfm.pdf e salvato come Timesfm.txt\n",
      "Started parsing the file under job_id 10f9d975-1467-4774-a5cb-da5cd45d0425\n",
      "....Elaborato TranAD.pdf e salvato come TranAD.txt\n",
      "Started parsing the file under job_id 0c6a46bd-f0f0-4ba9-9350-f255d0d67a29\n",
      "........................................................................Error while parsing the file './paper/paper2/MOMENT.pdf': \n",
      "Elaborato MOMENT.pdf e salvato come MOMENT.txt\n",
      "Started parsing the file under job_id a74efff7-ebd7-4383-a3a2-c5b79bd10456\n",
      "......Elaborato Foundation_Models_for_Time_Series_Analysis.pdf e salvato come Foundation_Models_for_Time_Series_Analysis.txt\n"
     ]
    }
   ],
   "source": [
    "for filename in os.listdir(pdf_directory):\n",
    "    if filename.endswith('.pdf'):\n",
    "        pdf_path = os.path.join(pdf_directory, filename)\n",
    "        txt_filename = os.path.splitext(filename)[0] + '.txt'\n",
    "        txt_path = os.path.join(txt_directory, txt_filename)\n",
    "\n",
    "        document = parser.load_data(pdf_path)\n",
    "\n",
    "        text_content = ''\n",
    "        for doc in document:\n",
    "            text_content += doc.text + '\\n'\n",
    "\n",
    "        with open(txt_path, 'w', encoding='utf-8') as txt_file:\n",
    "            txt_file.write(text_content)\n",
    "\n",
    "        print(f\"Elaborato {filename} e salvato come {txt_filename}\")"
   ]
  }
 ],
 "metadata": {
  "kernelspec": {
   "display_name": "PyTorch 2.4.1 (Python 3.11)",
   "language": "python",
   "name": "python3"
  },
  "language_info": {
   "codemirror_mode": {
    "name": "ipython",
    "version": 3
   },
   "file_extension": ".py",
   "mimetype": "text/x-python",
   "name": "python",
   "nbconvert_exporter": "python",
   "pygments_lexer": "ipython3",
   "version": "3.11.10"
  }
 },
 "nbformat": 4,
 "nbformat_minor": 4
}
