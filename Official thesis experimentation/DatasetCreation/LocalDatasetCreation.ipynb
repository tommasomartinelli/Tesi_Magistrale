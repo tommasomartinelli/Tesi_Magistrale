{
 "cells": [
  {
   "cell_type": "code",
   "execution_count": 1,
   "metadata": {},
   "outputs": [],
   "source": [
    "import os\n",
    "import json\n",
    "import requests"
   ]
  },
  {
   "cell_type": "code",
   "execution_count": 2,
   "metadata": {},
   "outputs": [],
   "source": [
    "MODEL_NAME = \"meta-llama/Meta-Llama-3.1-70B-Instruct\"\n",
    "MODEL_URL = \"http://172.18.21.137:8000/v1/completions\"\n",
    "MAX_TOKENS = 24288"
   ]
  },
  {
   "cell_type": "code",
   "execution_count": 3,
   "metadata": {},
   "outputs": [],
   "source": [
    "def extract_paper_title(file_path):\n",
    "    return os.path.splitext(os.path.basename(file_path))[0]"
   ]
  },
  {
   "cell_type": "code",
   "execution_count": 10,
   "metadata": {},
   "outputs": [],
   "source": [
    "def generate_qa_for_paper(text, paper_title, num_questions=5):\n",
    "    prompt = f\"\"\"\n",
    "    You are tasked with generating {num_questions} specific, detailed questions and answers suitable for a retrieval-augmented generation (RAG) system based solely on the following academic paper titled \"{paper_title}\". \n",
    "\n",
    "    Instructions:\n",
    "    1. Each question must explicitly reference the paper titled \"{paper_title}\" and be closely tied to specific sections, such as the abstract, specific tables, figures, or individual paragraphs of the document.\n",
    "    2. The questions should focus on specific data points, figures, tables, or methodologies. Avoid general or summary-like questions.\n",
    "    3. The answers must consist of detailed sentences or phrases directly extracted from the paper, but should be longer, providing at least a couple of sentences to offer full context. Explain the significance of the information provided, or give some additional detail on why the data is important.\n",
    "    4. Each answer should be specific, but include at least 2-3 sentences to ensure sufficient context, while still directly reflecting the exact language and details from the paper.\n",
    "    5. Avoid summaries that combine information from multiple sections; focus on isolated, factual details from specific parts of the paper.\n",
    "\n",
    "    Paper content:\n",
    "    {text}\n",
    "\n",
    "    Return the question and answer pairs in a structured JSON format like this:\n",
    "    {{\n",
    "        \"question\": \"Generated question\",\n",
    "        \"answer\": \"Generated answer\"\n",
    "    }}\n",
    "    \"\"\"\n",
    "    \n",
    "    data = {\n",
    "        \"model\": MODEL_NAME,\n",
    "        \"prompt\": prompt,\n",
    "        \"max_tokens\": 3500,  # Limite per risposte più lunghe\n",
    "        \"temperature\": 0.0   # Risposte determinate e precise\n",
    "    }\n",
    "    \n",
    "    headers = {\n",
    "        \"Content-Type\": \"application/json\"\n",
    "    }\n",
    "    \n",
    "    response = requests.post(MODEL_URL, headers=headers, json=data)\n",
    "    \n",
    "    if response.status_code == 200:\n",
    "        model_output = response.json()\n",
    "        raw_output = model_output['choices'][0]['text'].strip()\n",
    "\n",
    "        qa_pairs = []\n",
    "        current_question = None\n",
    "        current_answer = None\n",
    "\n",
    "        lines = raw_output.split(\"\\n\")\n",
    "        for line in lines:\n",
    "            if \"question\" in line.lower() and 'question\": \"' in line:\n",
    "                try:\n",
    "                    if current_question and current_answer:\n",
    "                        qa_pairs.append({\"question\": current_question, \"answer\": current_answer})\n",
    "                    current_question = line.split('question\": \"')[1].rstrip('\",').strip()\n",
    "                    current_answer = None  # Reset dell'answer\n",
    "                except IndexError:\n",
    "                    print(f\"Errore durante il parsing della domanda: {line}\")\n",
    "            elif \"answer\" in line.lower() and 'answer\": \"' in line:\n",
    "                try:\n",
    "                    current_answer = line.split('answer\": \"')[1].rstrip('\"}').strip()\n",
    "                except IndexError:\n",
    "                    print(f\"Errore durante il parsing della risposta: {line}\")\n",
    "        \n",
    "        if current_question and current_answer:\n",
    "            qa_pairs.append({\"question\": current_question, \"answer\": current_answer})\n",
    "\n",
    "        examples = []\n",
    "        for pair in qa_pairs:\n",
    "            try:\n",
    "                examples.append({\n",
    "                    \"paper_title\": paper_title,\n",
    "                    \"question\": pair[\"question\"],\n",
    "                    \"answer\": pair[\"answer\"]\n",
    "                })\n",
    "            except Exception as e:\n",
    "                print(f\"Errore durante il parsing della risposta: {e}\")\n",
    "\n",
    "        return {\n",
    "            \"model_info\": {\n",
    "                \"model_name\": MODEL_NAME,\n",
    "                \"type\": \"ai\"\n",
    "            },\n",
    "            \"examples\": examples\n",
    "        }\n",
    "    else:\n",
    "        print(f\"Errore: {response.status_code}\")\n",
    "        return None"
   ]
  },
  {
   "cell_type": "code",
   "execution_count": 11,
   "metadata": {},
   "outputs": [],
   "source": [
    "def save_qa_to_json(qa_data, paper_title):\n",
    "    output_file = f\"{paper_title}_qa.json\"\n",
    "    with open(output_file, \"w\", encoding=\"utf-8\") as f:\n",
    "        json.dump(qa_data, f, indent=4, ensure_ascii=False)\n",
    "    print(f\"File salvato: {output_file}\")"
   ]
  },
  {
   "cell_type": "code",
   "execution_count": 7,
   "metadata": {},
   "outputs": [],
   "source": [
    "def process_papers_in_directory(directory_path):\n",
    "    for file_name in os.listdir(directory_path):\n",
    "        if file_name.endswith(\".txt\"):\n",
    "            file_path = os.path.join(directory_path, file_name)\n",
    "\n",
    "            # Estrai il nome del paper dal file\n",
    "            paper_title = extract_paper_title(file_path)\n",
    "\n",
    "            # Carica il contenuto del documento\n",
    "            with open(file_path, \"r\", encoding=\"utf-8\") as file:\n",
    "                paper_content = file.read()\n",
    "\n",
    "            # Genera domande e risposte per il documento\n",
    "            qa_data = generate_qa_for_paper(paper_content, paper_title)\n",
    "\n",
    "            # Salva le domande e risposte in un file JSON separato per ogni paper\n",
    "            if qa_data:\n",
    "                save_qa_to_json(qa_data, paper_title)"
   ]
  },
  {
   "cell_type": "code",
   "execution_count": 12,
   "metadata": {},
   "outputs": [],
   "source": [
    "directory_path = \"../input\""
   ]
  },
  {
   "cell_type": "code",
   "execution_count": 13,
   "metadata": {},
   "outputs": [
    {
     "name": "stdout",
     "output_type": "stream",
     "text": [
      "Errore: 400\n",
      "File salvato: LagLLama_qa.json\n",
      "File salvato: TimeGPT_qa.json\n",
      "Errore: 400\n",
      "File salvato: AnomalyBERT_qa.json\n",
      "File salvato: TranAD_qa.json\n",
      "File salvato: RESTAD_qa.json\n",
      "File salvato: Foundation_Models_for_Time_Series_Analysis_qa.json\n",
      "File salvato: Timesfm_qa.json\n"
     ]
    }
   ],
   "source": [
    "process_all_papers_in_directory(directory_path)"
   ]
  },
  {
   "cell_type": "markdown",
   "metadata": {},
   "source": [
    "Processo i paper troppo grandi tagliandoli al limite dei token"
   ]
  },
  {
   "cell_type": "code",
   "execution_count": 14,
   "metadata": {},
   "outputs": [],
   "source": [
    "def trim_text_to_context_limit(text, max_characters):\n",
    "    return text[:max_characters] "
   ]
  },
  {
   "cell_type": "code",
   "execution_count": 15,
   "metadata": {},
   "outputs": [],
   "source": [
    "def generate_qa_for_paper(text, paper_title, num_questions=5):\n",
    "    trimmed_text = trim_text_to_context_limit(text, 20000)  # Limita a 10.000 caratteri (circa)\n",
    "    \n",
    "    prompt = f\"\"\"\n",
    "    You are tasked with generating {num_questions} specific, detailed questions and answers suitable for a retrieval-augmented generation (RAG) system based solely on the following academic paper titled \"{paper_title}\". \n",
    "\n",
    "    Instructions:\n",
    "    1. Each question must explicitly reference the paper titled \"{paper_title}\" and be closely tied to specific sections, such as the abstract, specific tables, figures, or individual paragraphs of the document.\n",
    "    2. The questions should focus on specific data points, figures, tables, or methodologies. Avoid general or summary-like questions.\n",
    "    3. The answers must consist of detailed sentences or phrases directly extracted from the paper, but should be longer, providing at least a couple of sentences to offer full context. Explain the significance of the information provided, or give some additional detail on why the data is important.\n",
    "    4. Each answer should be specific, but include at least 2-3 sentences to ensure sufficient context, while still directly reflecting the exact language and details from the paper.\n",
    "    5. Avoid summaries that combine information from multiple sections; focus on isolated, factual details from specific parts of the paper.\n",
    "\n",
    "    Paper content:\n",
    "    {trimmed_text}\n",
    "\n",
    "    Return the question and answer pairs in a structured JSON format like this:\n",
    "    {{\n",
    "        \"question\": \"Generated question\",\n",
    "        \"answer\": \"Generated answer\"\n",
    "    }}\n",
    "    \"\"\"\n",
    "    \n",
    "    data = {\n",
    "        \"model\": MODEL_NAME,\n",
    "        \"prompt\": prompt,\n",
    "        \"max_tokens\": 3500,  # Limite per risposte più lunghe\n",
    "        \"temperature\": 0.0   # Risposte determinate e precise\n",
    "    }\n",
    "    \n",
    "    headers = {\n",
    "        \"Content-Type\": \"application/json\"\n",
    "    }\n",
    "    \n",
    "    response = requests.post(MODEL_URL, headers=headers, json=data)\n",
    "    \n",
    "    if response.status_code == 200:\n",
    "        model_output = response.json()\n",
    "        raw_output = model_output['choices'][0]['text'].strip()\n",
    "\n",
    "        qa_pairs = []\n",
    "        current_question = None\n",
    "        current_answer = None\n",
    "\n",
    "        lines = raw_output.split(\"\\n\")\n",
    "        for line in lines:\n",
    "            if \"question\" in line.lower() and 'question\": \"' in line:\n",
    "                try:\n",
    "                    if current_question and current_answer:\n",
    "                        qa_pairs.append({\"question\": current_question, \"answer\": current_answer})\n",
    "                    current_question = line.split('question\": \"')[1].rstrip('\",').strip()\n",
    "                    current_answer = None  # Reset dell'answer\n",
    "                except IndexError:\n",
    "                    print(f\"Errore durante il parsing della domanda: {line}\")\n",
    "            elif \"answer\" in line.lower() and 'answer\": \"' in line:\n",
    "                try:\n",
    "                    current_answer = line.split('answer\": \"')[1].rstrip('\"}').strip()\n",
    "                except IndexError:\n",
    "                    print(f\"Errore durante il parsing della risposta: {line}\")\n",
    "        \n",
    "        if current_question and current_answer:\n",
    "            qa_pairs.append({\"question\": current_question, \"answer\": current_answer})\n",
    "\n",
    "        examples = []\n",
    "        for pair in qa_pairs:\n",
    "            try:\n",
    "                examples.append({\n",
    "                    \"paper_title\": paper_title,\n",
    "                    \"question\": pair[\"question\"],\n",
    "                    \"answer\": pair[\"answer\"]\n",
    "                })\n",
    "            except Exception as e:\n",
    "                print(f\"Errore durante il parsing della risposta: {e}\")\n",
    "\n",
    "        return {\n",
    "            \"model_info\": {\n",
    "                \"model_name\": MODEL_NAME,\n",
    "                \"type\": \"ai\"\n",
    "            },\n",
    "            \"examples\": examples\n",
    "        }\n",
    "    else:\n",
    "        print(f\"Errore: {response.status_code}\")\n",
    "        return None"
   ]
  },
  {
   "cell_type": "code",
   "execution_count": 16,
   "metadata": {},
   "outputs": [],
   "source": [
    "def process_large_paper(file_path):\n",
    "    # Estrai il nome del paper dal file\n",
    "    paper_title = extract_paper_title(file_path)\n",
    "\n",
    "    # Carica il contenuto del documento\n",
    "    with open(file_path, \"r\", encoding=\"utf-8\") as file:\n",
    "        paper_content = file.read()\n",
    "\n",
    "    # Genera domande e risposte per la parte del documento che rientra nel limite del contesto\n",
    "    qa_data = generate_qa_for_paper(paper_content, paper_title)\n",
    "\n",
    "    # Salva le domande e risposte in un file JSON\n",
    "    if qa_data:\n",
    "        save_qa_to_json(qa_data, paper_title)"
   ]
  },
  {
   "cell_type": "code",
   "execution_count": 17,
   "metadata": {},
   "outputs": [
    {
     "name": "stdout",
     "output_type": "stream",
     "text": [
      "File salvato: TimeLLM_qa.json\n"
     ]
    }
   ],
   "source": [
    "file_path = \"../input/TimeLLM.txt\"\n",
    "\n",
    "process_large_paper(file_path)"
   ]
  },
  {
   "cell_type": "code",
   "execution_count": 18,
   "metadata": {},
   "outputs": [
    {
     "name": "stdout",
     "output_type": "stream",
     "text": [
      "File salvato: Chronos_qa.json\n"
     ]
    }
   ],
   "source": [
    "file_path = \"../input/Chronos.txt\"\n",
    "\n",
    "process_large_paper(file_path)"
   ]
  },
  {
   "cell_type": "code",
   "execution_count": 19,
   "metadata": {},
   "outputs": [
    {
     "name": "stdout",
     "output_type": "stream",
     "text": [
      "File salvato: LagLLama_qa.json\n"
     ]
    }
   ],
   "source": [
    "file_path = \"../input/LagLLama.txt\"\n",
    "\n",
    "process_large_paper(file_path)"
   ]
  }
 ],
 "metadata": {
  "kernelspec": {
   "display_name": "Python 3",
   "language": "python",
   "name": "python3"
  },
  "language_info": {
   "codemirror_mode": {
    "name": "ipython",
    "version": 3
   },
   "file_extension": ".py",
   "mimetype": "text/x-python",
   "name": "python",
   "nbconvert_exporter": "python",
   "pygments_lexer": "ipython3",
   "version": "3.11.9"
  }
 },
 "nbformat": 4,
 "nbformat_minor": 2
}
