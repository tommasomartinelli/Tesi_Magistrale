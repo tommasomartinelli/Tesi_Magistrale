{
 "cells": [
  {
   "cell_type": "markdown",
   "metadata": {},
   "source": [
    "# Notebook per valutazione umana delle risposte delle due pipeline"
   ]
  },
  {
   "cell_type": "markdown",
   "metadata": {},
   "source": [
    "## 1. Valutazione su domande globali"
   ]
  },
  {
   "cell_type": "markdown",
   "metadata": {},
   "source": [
    "### 1.1 GraphRAG su domande globali"
   ]
  },
  {
   "cell_type": "markdown",
   "metadata": {},
   "source": [
    "#### 1.1.1 Selezione file"
   ]
  },
  {
   "cell_type": "code",
   "execution_count": 93,
   "metadata": {},
   "outputs": [],
   "source": [
    "import os\n",
    "import matplotlib.pyplot as plt\n",
    "import pandas as pd\n",
    "import tiktoken\n",
    "import os\n",
    "from graphrag.query.indexer_adapters import read_indexer_entities, read_indexer_reports\n",
    "from graphrag.query.llm.oai.chat_openai import ChatOpenAI\n",
    "from graphrag.query.llm.oai.typing import OpenaiApiType\n",
    "from graphrag.query.structured_search.global_search.community_context import (\n",
    "    GlobalCommunityContext,\n",
    ")\n",
    "from graphrag.query.structured_search.global_search.search import GlobalSearch\n",
    "from IPython.display import Markdown, display\n",
    "import time\n",
    "import asyncio"
   ]
  },
  {
   "cell_type": "code",
   "execution_count": 5,
   "metadata": {},
   "outputs": [
    {
     "name": "stdout",
     "output_type": "stream",
     "text": [
      "The path exists and is not empty.\n"
     ]
    }
   ],
   "source": [
    "file_path = '../../output/20240925-154939/artifacts'\n",
    "\n",
    "if not os.path.exists(file_path) or not os.listdir(file_path):\n",
    "    print(\"The specified path is empty or does not exist.\")\n",
    "else:\n",
    "    print(\"The path exists and is not empty.\")"
   ]
  },
  {
   "cell_type": "code",
   "execution_count": 6,
   "metadata": {},
   "outputs": [],
   "source": [
    "INPUT_DIR = file_path\n",
    "LANCEDB_URI = f\"{INPUT_DIR}/lancedb\"\n",
    "\n",
    "COMMUNITY_REPORT_TABLE = \"create_final_community_reports\"\n",
    "ENTITY_TABLE = \"create_final_nodes\"\n",
    "ENTITY_EMBEDDING_TABLE = \"create_final_entities\"\n",
    "RELATIONSHIP_TABLE = \"create_final_relationships\"\n",
    "COVARIATE_TABLE = \"create_final_covariates\"\n",
    "TEXT_UNIT_TABLE = \"create_final_text_units\""
   ]
  },
  {
   "cell_type": "code",
   "execution_count": 7,
   "metadata": {},
   "outputs": [],
   "source": [
    "entity_df = pd.read_parquet(f\"{INPUT_DIR}/{ENTITY_TABLE}.parquet\")\n",
    "nodes_df = pd.read_parquet(f\"{INPUT_DIR}/{ENTITY_EMBEDDING_TABLE}.parquet\")\n",
    "relationship_df = pd.read_parquet(f\"{INPUT_DIR}/{RELATIONSHIP_TABLE}.parquet\")\n",
    "df_report = pd.read_parquet(f\"{INPUT_DIR}/{COMMUNITY_REPORT_TABLE}.parquet\")"
   ]
  },
  {
   "cell_type": "code",
   "execution_count": 8,
   "metadata": {},
   "outputs": [],
   "source": [
    "token_encoder = tiktoken.get_encoding(\"cl100k_base\")"
   ]
  },
  {
   "cell_type": "code",
   "execution_count": 9,
   "metadata": {},
   "outputs": [],
   "source": [
    "INPUT_DIR = file_path\n",
    "COMMUNITY_REPORT_TABLE = \"create_final_community_reports\"\n",
    "ENTITY_TABLE = \"create_final_nodes\"\n",
    "ENTITY_EMBEDDING_TABLE = \"create_final_entities\"\n",
    "\n",
    "COMMUNITY_LEVEL = 4"
   ]
  },
  {
   "cell_type": "code",
   "execution_count": 10,
   "metadata": {},
   "outputs": [],
   "source": [
    "report_df = pd.read_parquet(f\"{INPUT_DIR}/{COMMUNITY_REPORT_TABLE}.parquet\")\n",
    "reports = read_indexer_reports(report_df, entity_df, COMMUNITY_LEVEL)\n",
    "\n",
    "entity_df = pd.read_parquet(f\"{INPUT_DIR}/{ENTITY_TABLE}.parquet\")\n",
    "entity_embedding_df = pd.read_parquet(f\"{INPUT_DIR}/{ENTITY_EMBEDDING_TABLE}.parquet\")\n",
    "entities = read_indexer_entities(entity_df, entity_embedding_df, COMMUNITY_LEVEL)"
   ]
  },
  {
   "cell_type": "code",
   "execution_count": 12,
   "metadata": {},
   "outputs": [
    {
     "data": {
      "text/plain": [
       "True"
      ]
     },
     "execution_count": 12,
     "metadata": {},
     "output_type": "execute_result"
    }
   ],
   "source": [
    "from dotenv import load_dotenv\n",
    "\n",
    "load_dotenv()"
   ]
  },
  {
   "cell_type": "markdown",
   "metadata": {},
   "source": [
    "#### 1.1.2 Definizione del modello"
   ]
  },
  {
   "cell_type": "code",
   "execution_count": 13,
   "metadata": {},
   "outputs": [],
   "source": [
    "api_key = os.environ[\"GRAPHRAG_API_KEY\"]\n",
    "llm_model = \"meta-llama/Meta-Llama-3.1-8B-Instruct\"\n",
    "api_base = \"http://172.18.21.132:8000/v1\""
   ]
  },
  {
   "cell_type": "code",
   "execution_count": 14,
   "metadata": {},
   "outputs": [],
   "source": [
    "llm = ChatOpenAI(\n",
    "    api_key=api_key,\n",
    "    model=llm_model,\n",
    "    api_type=OpenaiApiType.OpenAI,  \n",
    "    api_base=api_base,  \n",
    "    max_retries=20,\n",
    ")"
   ]
  },
  {
   "cell_type": "markdown",
   "metadata": {},
   "source": [
    "#### 1.1.3 Creazione query-engine per domande globali"
   ]
  },
  {
   "cell_type": "code",
   "execution_count": 15,
   "metadata": {},
   "outputs": [],
   "source": [
    "context_builder = GlobalCommunityContext(\n",
    "    community_reports=reports,\n",
    "    entities=entities,  \n",
    "    token_encoder=token_encoder,\n",
    ")"
   ]
  },
  {
   "cell_type": "code",
   "execution_count": 16,
   "metadata": {},
   "outputs": [],
   "source": [
    "context_builder_params = {\n",
    "    \"use_community_summary\": True,  \n",
    "    \"shuffle_data\": True,\n",
    "    \"include_community_rank\": True,\n",
    "    \"min_community_rank\": 0,\n",
    "    \"community_rank_name\": \"rank\",\n",
    "    \"include_community_weight\": True,\n",
    "    \"community_weight_name\": \"occurrence weight\",\n",
    "    \"normalize_community_weight\": True,\n",
    "    \"max_tokens\": 6000,  \n",
    "    \"context_name\": \"Reports\",\n",
    "}\n",
    "\n",
    "map_llm_params = {\n",
    "    \"max_tokens\": 1500,\n",
    "    \"temperature\": 0.0,\n",
    "    \"response_format\": {\"type\": \"json_object\"},\n",
    "}\n",
    "\n",
    "reduce_llm_params = {\n",
    "    \"max_tokens\": 1500,  \n",
    "    \"temperature\": 0.0,\n",
    "}"
   ]
  },
  {
   "cell_type": "code",
   "execution_count": 18,
   "metadata": {},
   "outputs": [],
   "source": [
    "search_engine_global = GlobalSearch(\n",
    "    llm=llm,\n",
    "    context_builder=context_builder,\n",
    "    token_encoder=token_encoder,\n",
    "    max_data_tokens=6000, \n",
    "    map_llm_params=map_llm_params,\n",
    "    reduce_llm_params=reduce_llm_params,\n",
    "    allow_general_knowledge=False,  \n",
    "    json_mode=True,  \n",
    "    context_builder_params=context_builder_params,\n",
    "    concurrent_coroutines=32,\n",
    "    response_type=\"Single page\",  \n",
    ")"
   ]
  },
  {
   "cell_type": "markdown",
   "metadata": {},
   "source": [
    "#### 1.1.4 Funzioni per esecuzione delle query"
   ]
  },
  {
   "cell_type": "code",
   "execution_count": 55,
   "metadata": {},
   "outputs": [],
   "source": [
    "async def ask_question_graph_global(question):\n",
    "    try:\n",
    "        result = await search_engine_global.asearch(question)\n",
    "        answer = result.response\n",
    "    except Exception as e:\n",
    "        print(f\"Error processing question: {question}\\nException: {e}\")\n",
    "        answer = \"Error: Unable to retrieve answer.\"\n",
    "    return answer"
   ]
  },
  {
   "cell_type": "code",
   "execution_count": 65,
   "metadata": {},
   "outputs": [],
   "source": [
    "async def test_global_graph(question):\n",
    "    answer = await ask_question_graph_global(question)\n",
    "    display(Markdown(f\"**Domanda:** {question}\\n\\n**Risposta:**\\n{answer}\"))"
   ]
  },
  {
   "cell_type": "code",
   "execution_count": 60,
   "metadata": {},
   "outputs": [],
   "source": [
    "question_global_1 = \"What are the main topics covered by the data in the set of time-series papers?\""
   ]
  },
  {
   "cell_type": "code",
   "execution_count": 66,
   "metadata": {},
   "outputs": [
    {
     "data": {
      "text/markdown": [
       "**Domanda:** What are the main topics covered by the data in the set of time-series papers?\n",
       "\n",
       "**Risposta:**\n",
       "**Main Topics Covered by the Data**\n",
       "=====================================\n",
       "\n",
       "The main topics covered by the data in the set of time-series papers include:\n",
       "\n",
       "### Time Series Forecasting\n",
       "\n",
       "Time series forecasting is a key topic covered by the data, with various models and techniques being discussed, including:\n",
       "\n",
       "* Transformers\n",
       "* LSTMs\n",
       "* Anomaly Detection\n",
       "\n",
       "These topics are supported by data references [Data: Reports (105, 371, 384, 268, 303, +more)].\n",
       "\n",
       "### Anomaly Detection\n",
       "\n",
       "Anomaly detection is another key topic, with entities such as SWAT, WADI, and AnomalyBERT being closely related [Data: Reports (384, 211, 335, 75, 164)].\n",
       "\n",
       "### Time Series Analysis\n",
       "\n",
       "Time series analysis is also a main topic covered by the data, including topics such as:\n",
       "\n",
       "* Probabilistic time series forecasting\n",
       "* Univariate time series forecasting\n",
       "* Multivariate time series forecasting\n",
       "\n",
       "These subtopics are supported by data references [Data: Reports (302, 156, 350, 240, 339)].\n",
       "\n",
       "### Machine Learning and Deep Learning\n",
       "\n",
       "The data also covers topics related to machine learning, deep learning, and neural networks, which are used in time series forecasting and analysis [Data: Reports (177, 80, 176, 126, 122, +more)].\n",
       "\n",
       "### Model Evaluation and Hyperparameter Tuning\n",
       "\n",
       "Model evaluation and hyperparameter tuning are also discussed in the data, with entities such as pretraining, validation set, and training split being related to each other [Data: Reports (248, 357, 214, 219, 296)].\n",
       "\n",
       "### Domain-Specific Applications and Task-Specific Tasks\n",
       "\n",
       "Domain-specific applications and task-specific tasks are also covered in the data, with entities such as Domain-Specific Applications and Task-Specific Task being related to each other [Data: Reports (246, 88, 296, 309, 101)].\n",
       "\n",
       "### Data Preprocessing and Visualization\n",
       "\n",
       "The data also touches on topics related to data preprocessing, data augmentation, and data visualization [Data: Reports (341, 276, 221, 365, 79)].\n",
       "\n",
       "### Other Relevant Topics\n",
       "\n",
       "Other relevant topics covered by the data include:\n",
       "\n",
       "* Time series modeling\n",
       "* Time series patterns\n",
       "* Time series tokenization\n",
       "* Seasonal patterns\n",
       "* Multivariate forecasting\n",
       "* Recommender systems\n",
       "* Time series visualization\n",
       "* Time series classification\n",
       "* Time series clustering\n",
       "\n",
       "These topics are supported by data references [Data: Reports (367, 158, 327, 358, 287, +more)].\n",
       "\n",
       "Note that the above list is not exhaustive, and there may be other topics covered by the data that are not mentioned here."
      ],
      "text/plain": [
       "<IPython.core.display.Markdown object>"
      ]
     },
     "metadata": {},
     "output_type": "display_data"
    }
   ],
   "source": [
    "await test_global_graph(question_global_1)"
   ]
  },
  {
   "cell_type": "markdown",
   "metadata": {},
   "source": [
    "### 1.2 RAG Tradizionale su domande globali"
   ]
  },
  {
   "cell_type": "markdown",
   "metadata": {},
   "source": [
    "#### 1.2.1 Definizione dell'embedder per pipeline Naive"
   ]
  },
  {
   "cell_type": "code",
   "execution_count": 40,
   "metadata": {},
   "outputs": [],
   "source": [
    "from langchain.embeddings.base import Embeddings\n",
    "from langchain.llms.base import LLM\n",
    "from typing import Optional, List\n",
    "from langchain.vectorstores import FAISS\n",
    "from langchain.chains import RetrievalQA\n",
    "import requests\n",
    "import os\n",
    "import numpy as np\n"
   ]
  },
  {
   "cell_type": "code",
   "execution_count": 41,
   "metadata": {},
   "outputs": [],
   "source": [
    "class CustomEmbeddings(Embeddings):\n",
    "    def __init__(self, endpoint_url):\n",
    "        self.endpoint_url = endpoint_url\n",
    "\n",
    "    def embed_documents(self, texts):\n",
    "        embeddings = []\n",
    "        for text in texts:\n",
    "            payload = {\n",
    "                \"input\": text,\n",
    "                \"model\": \"intfloat/multilingual-e5-large-instruct\"\n",
    "            }\n",
    "            response = requests.post(f\"{self.endpoint_url}/embeddings\", json=payload)\n",
    "            if response.status_code == 200:\n",
    "                embedding = response.json()['data'][0]['embedding']\n",
    "                embeddings.append(embedding)\n",
    "            else:\n",
    "                raise Exception(f\"Errore nell'embedder: {response.text}\")\n",
    "        return embeddings\n",
    "\n",
    "    def embed_query(self, text):\n",
    "        return self.embed_documents([text])[0]"
   ]
  },
  {
   "cell_type": "code",
   "execution_count": 42,
   "metadata": {},
   "outputs": [],
   "source": [
    "embedder = CustomEmbeddings(endpoint_url=\"http://172.18.21.138:80/v1\")"
   ]
  },
  {
   "cell_type": "markdown",
   "metadata": {},
   "source": [
    "#### 1.2.2 Realizzazione della pipeline di RAG tradizionale"
   ]
  },
  {
   "cell_type": "code",
   "execution_count": 43,
   "metadata": {},
   "outputs": [],
   "source": [
    "import glob\n",
    "\n",
    "document_paths = glob.glob('../input/*.txt')"
   ]
  },
  {
   "cell_type": "code",
   "execution_count": 44,
   "metadata": {},
   "outputs": [],
   "source": [
    "from langchain.docstore.document import Document\n",
    "\n",
    "documents = []\n",
    "for file_path in document_paths:\n",
    "    with open(file_path, 'r', encoding='utf-8') as file:\n",
    "        content = file.read()\n",
    "        documents.append(Document(page_content=content))"
   ]
  },
  {
   "cell_type": "code",
   "execution_count": 45,
   "metadata": {},
   "outputs": [
    {
     "name": "stdout",
     "output_type": "stream",
     "text": [
      "Numero di documenti caricati: 9\n"
     ]
    }
   ],
   "source": [
    "print(f\"Numero di documenti caricati: {len(documents)}\")"
   ]
  },
  {
   "cell_type": "code",
   "execution_count": 47,
   "metadata": {},
   "outputs": [
    {
     "name": "stdout",
     "output_type": "stream",
     "text": [
      "Numero totale di chunk: 718\n",
      "\n"
     ]
    }
   ],
   "source": [
    "from langchain.text_splitter import RecursiveCharacterTextSplitter\n",
    "\n",
    "text_splitter = RecursiveCharacterTextSplitter(\n",
    "    chunk_size=1000,       \n",
    "    chunk_overlap=200,     \n",
    "    separators=[\"\\n\\n\", \"\\n\", \".\", \"!\", \"?\", \",\", \" \", \"\"],\n",
    "    length_function=len\n",
    ")\n",
    "\n",
    "docs = text_splitter.split_documents(documents)\n",
    "\n",
    "print(f\"Numero totale di chunk: {len(docs)}\\n\")"
   ]
  },
  {
   "cell_type": "code",
   "execution_count": 48,
   "metadata": {},
   "outputs": [],
   "source": [
    "vectorstore = FAISS.from_documents(docs, embedder)"
   ]
  },
  {
   "cell_type": "code",
   "execution_count": 49,
   "metadata": {},
   "outputs": [
    {
     "name": "stdout",
     "output_type": "stream",
     "text": [
      "Numero di vettori indicizzati: 718\n"
     ]
    }
   ],
   "source": [
    "num_vectors = vectorstore.index.ntotal\n",
    "print(f\"Numero di vettori indicizzati: {num_vectors}\")"
   ]
  },
  {
   "cell_type": "markdown",
   "metadata": {},
   "source": [
    "#### 1.2.3 Definizione del LLM con apposito prompt"
   ]
  },
  {
   "cell_type": "code",
   "execution_count": 50,
   "metadata": {},
   "outputs": [],
   "source": [
    "from langchain.prompts import PromptTemplate\n",
    "\n",
    "prompt_template = \"\"\"\n",
    "You are a knowledgeable assistant specialized in answering questions based solely on the provided context. Provide a detailed and well-structured answer, including all relevant information from the context. Ensure your response is comprehensive, faithful to the context, and presented in clear, well-formed sentences. Do not add any information that is not present in the context. If the answer is not explicitly stated in the context, respond with \"I don't know.\"\n",
    "\n",
    "Context:\n",
    "{context}\n",
    "\n",
    "Question:\n",
    "{question}\n",
    "\n",
    "Answer:\n",
    "\"\"\"\n",
    "\n",
    "prompt = PromptTemplate(\n",
    "    template=prompt_template,\n",
    "    input_variables=[\"context\", \"question\"]\n",
    ")"
   ]
  },
  {
   "cell_type": "code",
   "execution_count": 51,
   "metadata": {},
   "outputs": [],
   "source": [
    "class CustomLLM(LLM):\n",
    "    endpoint_url: str\n",
    "    model_name: str = \"meta-llama/Meta-Llama-3.1-8B-Instruct\"\n",
    "    temperature: float = 0.0\n",
    "    max_tokens: int = 1500\n",
    "    repetition_penalty: float = 1.2\n",
    "\n",
    "    @property\n",
    "    def _llm_type(self) -> str:\n",
    "        return \"custom_llm\"\n",
    "\n",
    "    def _call(self, prompt: str, stop: Optional[List[str]] = None) -> str:\n",
    "        payload = {\n",
    "            \"prompt\": prompt,\n",
    "            \"model\": self.model_name,\n",
    "            \"temperature\": self.temperature,\n",
    "            \"max_tokens\": self.max_tokens,\n",
    "            \"repetition_penalty\": self.repetition_penalty,\n",
    "            \"stop\": stop or [\"I don't know.\"],\n",
    "        }\n",
    "        print(\"Payload inviato all'API:\", payload)  \n",
    "        response = requests.post(f\"{self.endpoint_url}/completions\", json=payload)\n",
    "        if response.status_code == 200:\n",
    "            return response.json()['choices'][0]['text']\n",
    "        else:\n",
    "            raise Exception(f\"Errore nel LLM: {response.text}\")"
   ]
  },
  {
   "cell_type": "code",
   "execution_count": 52,
   "metadata": {},
   "outputs": [],
   "source": [
    "llm = CustomLLM(\n",
    "    endpoint_url=\"http://172.18.21.132:8000/v1\",\n",
    "    temperature=0.0,\n",
    "    max_tokens= 500\n",
    ")"
   ]
  },
  {
   "cell_type": "markdown",
   "metadata": {},
   "source": [
    "#### 1.2.4 Funzioni per esecuzione delle query"
   ]
  },
  {
   "cell_type": "code",
   "execution_count": 53,
   "metadata": {},
   "outputs": [],
   "source": [
    "from langchain.chains import RetrievalQA\n",
    "\n",
    "retriever = vectorstore.as_retriever(search_kwargs={\"k\": 5})"
   ]
  },
  {
   "cell_type": "code",
   "execution_count": 54,
   "metadata": {},
   "outputs": [],
   "source": [
    "qa_chain = RetrievalQA.from_chain_type(\n",
    "    llm=llm,\n",
    "    chain_type=\"stuff\",\n",
    "    retriever=retriever,\n",
    "    return_source_documents=False,\n",
    "    chain_type_kwargs={\"prompt\": prompt}\n",
    ")"
   ]
  },
  {
   "cell_type": "code",
   "execution_count": 80,
   "metadata": {},
   "outputs": [],
   "source": [
    "async def ask_question_naive(query):  \n",
    "    result = qa_chain({\"query\": query})  \n",
    "    answer = result['result']\n",
    "    display(Markdown(f\"**Domanda:** {query}\\n\\n**Risposta:** {answer}\"))"
   ]
  },
  {
   "cell_type": "code",
   "execution_count": 63,
   "metadata": {},
   "outputs": [
    {
     "name": "stderr",
     "output_type": "stream",
     "text": [
      "/tmp/ipykernel_190684/398108627.py:2: LangChainDeprecationWarning: The method `Chain.__call__` was deprecated in langchain 0.1.0 and will be removed in 1.0. Use invoke instead.\n",
      "  result = qa_chain({\"query\": query})\n"
     ]
    },
    {
     "name": "stdout",
     "output_type": "stream",
     "text": [
      "Payload inviato all'API: {'prompt': '\\nYou are a knowledgeable assistant specialized in answering questions based solely on the provided context. Provide a detailed and well-structured answer, including all relevant information from the context. Ensure your response is comprehensive, faithful to the context, and presented in clear, well-formed sentences. Do not add any information that is not present in the context. If the answer is not explicitly stated in the context, respond with \"I don\\'t know.\"\\n\\nContext:\\n# Categories of Time Series.\\n\\nA time series is commonly described as an ordered sequence of data points. Figure 2 illustrates various types of time series discussed in this survey, including standard time series, spatial time series, trajectories, and events. Note that trajectories and events can be regarded as time series since each data point is associated with a specific timestamp (and location), allowing for analysis using time series techniques such as anomaly detection. These time series are formulated as follows.\\n# Foundation Models for Time Series Analysis: A Tutorial and Survey\\n\\n# KDD ’24, August 25–29, 2024, Barcelona, Spain\\n\\n# 1. Introduction\\n\\nIn contrast to previous surveys, this manuscript incorporates the most extensive array of time series data types (see Table 1), spatial time series, as well as other types such as the trajectory and event. We further summarize the developmental roadmap of current TSFMs in Figure 1, in order to foster further innovations and understanding in the dynamic and ever-evolving landscape of TSFMs. In short, our major contributions lie in three aspects:\\n\\nTimeGPT was trained on, to our knowledge, the largest collection of publicly available time series, collectively encompassing over 100 billion data points. This training set incorporates time series from a broad array of domains, including finance, economics, demographics, healthcare, weather, IoT sensor data, energy, web traffic, sales, transport, and banking. Due to this diverse set of domains, the training dataset contains time series with a wide range of characteristics.\\n\\n# 2 RELATED WORKS\\n\\n# Time Series Anomaly Detection\\n\\n# 5 Pretraining Details\\n\\nWe would like our pretraining corpus to include large volumes of temporal data representing a variety of domains, trend and seasonality patterns and time granularities that ideally capture the forecasting use-cases which we are interested in serving by the deployed model. It is challenging to find a large time-series dataset that meets the volume and diversity of data needed for training our foundation model. We address this problem by sourcing the bulk of data used to train our models from three major sources: Google trends, Wiki Pageview statistics and synthetic time-series. In summary the main data sources are:\\n\\n# Google Trends\\n\\nQuestion:\\nWhat are the main topics covered by the data in the set of time-series papers?\\n\\nAnswer:\\n', 'model': 'meta-llama/Meta-Llama-3.1-8B-Instruct', 'temperature': 0.0, 'max_tokens': 500, 'repetition_penalty': 1.2, 'stop': [\"I don't know.\"]}\n"
     ]
    },
    {
     "data": {
      "text/markdown": [
       "**Domanda:** What are the main topics covered by the data in the set of time-series papers?\n",
       "\n",
       "**Risposta:**The main topics covered by the data in the set of time-series papers appear to be related to various fields or domains, including but not limited to finance, economics, demographics, healthcare, weather, IoT sensor data, energy, web traffic, sales, transport, and banking. The text does mention that these categories were identified through the incorporation of the most extensive array of time series data types into the paper's discussion. However, it doesn't provide more details about what exactly those categories mean within their respective contexts. I do not have enough information to give you a precise description of how they relate to one another. Therefore, my best guess at providing some insight into the nature of these categories will involve describing them broadly. \n",
       "\n",
       "Finance refers to financial markets, economic indicators, stock prices, etc., while Economics encompasses macroeconomic variables, GDP growth rates, inflation rates, unemployment levels, etc. Demographics involves population size, age distribution, gender ratios, education level, income distributions, etc. Healthcare includes disease prevalence, hospital admissions, patient outcomes, medication usage, medical research findings, etc. Weather pertains to temperature readings, precipitation amounts, atmospheric pressure measurements, wind speed observations, cloud cover percentages, etc. IoT Sensor Data relates to real-time monitoring systems tracking environmental conditions, industrial equipment performance, consumer behavior, smart home devices' status updates, vehicle movement patterns, etc. Energy deals with electricity consumption patterns, renewable resource production outputs, fuel price fluctuations, power grid stability metrics, etc. Web Traffic focuses on website visits counts per hour/day/week/month; page views numbers broken down across different browsers/devices/geographic locations; bounce rate calculations indicating user engagement levels; average session duration times reflecting visitor interest periods; etc. Sales covers product demand forecasts generated via machine learning algorithms analyzing historical transaction records stored within databases managed by e-commerce platforms selling goods online worldwide today! Transport addresses passenger travel habits tracked through mobile apps showing routes taken between destinations along roads highways airports seaports railways subways buses taxis ride-sharing services bike-share programs walkability scores pedestrian infrastructure quality assessments street lighting condition evaluations noise pollution indexes air quality monitoring results traffic congestion severity ratings road safety indices accident frequency rates driver behavior analytics fleet management solutions logistics optimization strategies supply chain visibility tools route planning software package delivery scheduling systems inventory control methods warehouse automation technologies freight forwarding companies customs clearance procedures border crossing regulations trade agreements tariffs duties taxes excise fees levied upon imported/exported commodities currency exchange rates market volatility risk assessment methodologies hedging instruments futures contracts options trading derivatives securities investments portfolio"
      ],
      "text/plain": [
       "<IPython.core.display.Markdown object>"
      ]
     },
     "metadata": {},
     "output_type": "display_data"
    }
   ],
   "source": [
    "await ask_question_naive(question_global_1)"
   ]
  },
  {
   "cell_type": "markdown",
   "metadata": {},
   "source": [
    "### 1.3 Confronto su domande globali"
   ]
  },
  {
   "cell_type": "markdown",
   "metadata": {},
   "source": [
    "#### 1.3.1 Selezione di 5 domande globali"
   ]
  },
  {
   "cell_type": "markdown",
   "metadata": {},
   "source": [
    "Le 5 domande verranno sottoposte ad entrambe le pipeline, analizzandone le risposte e misurando i tempi."
   ]
  },
  {
   "cell_type": "code",
   "execution_count": 64,
   "metadata": {},
   "outputs": [],
   "source": [
    "query_global1 = \"What are the main topics covered by the data in the set of time-series papers?\"\n",
    "query_global2 = \"What types of real-world applications can benefit from models like TimeLLM, RestAD, TimeGPT, AnomalyBERT, LagLLama and the other models described?\"\n",
    "query_global3 = \"What are the main trade-offs when choosing between transformer-based models and traditional time-series models?\"\n",
    "query_global4 = \"How do anomaly detection models like AnomalyBERT, TranAD, and RestAD compare in terms of their robustness and adaptability to various types of anomalies (contextual, point, collective) across different time series domains?\"\n",
    "query_global5 = \"How does TimeGPT approach time-series forecasting?\""
   ]
  },
  {
   "cell_type": "markdown",
   "metadata": {},
   "source": [
    "#### 1.3.2 Confronto risposte"
   ]
  },
  {
   "cell_type": "markdown",
   "metadata": {},
   "source": [
    "##### 1.3.2.1 Prima Query globale"
   ]
  },
  {
   "cell_type": "markdown",
   "metadata": {},
   "source": [
    "**GraphRAG**"
   ]
  },
  {
   "cell_type": "code",
   "execution_count": 69,
   "metadata": {},
   "outputs": [
    {
     "data": {
      "text/markdown": [
       "**Domanda:** What are the main topics covered by the data in the set of time-series papers?\n",
       "\n",
       "**Risposta:**\n",
       "**Main Topics Covered by the Data**\n",
       "=====================================\n",
       "\n",
       "The main topics covered by the data in the set of time-series papers include:\n",
       "\n",
       "### Time Series Forecasting\n",
       "\n",
       "Time series forecasting is a key topic covered by the data, with various models and techniques being discussed, including:\n",
       "\n",
       "* Transformers\n",
       "* LSTMs\n",
       "* Anomaly Detection\n",
       "\n",
       "These topics are supported by data references [Data: Reports (105, 371, 384, 268, 303, +more)].\n",
       "\n",
       "### Anomaly Detection\n",
       "\n",
       "Anomaly detection is another key topic, with entities such as SWAT, WADI, and AnomalyBERT being closely related [Data: Reports (384, 211, 335, 75, 164)].\n",
       "\n",
       "### Time Series Analysis\n",
       "\n",
       "Time series analysis is also a main topic covered by the data, including topics such as:\n",
       "\n",
       "* Probabilistic time series forecasting\n",
       "* Univariate time series forecasting\n",
       "* Multivariate time series forecasting\n",
       "\n",
       "These subtopics are supported by data references [Data: Reports (302, 156, 350, 240, 339)].\n",
       "\n",
       "### Machine Learning and Deep Learning\n",
       "\n",
       "The data also covers topics related to machine learning, deep learning, and neural networks, which are used in time series forecasting and analysis [Data: Reports (177, 80, 176, 126, 122, +more)].\n",
       "\n",
       "### Model Evaluation and Hyperparameter Tuning\n",
       "\n",
       "Model evaluation and hyperparameter tuning are also discussed in the data, with entities such as pretraining, validation set, and training split being related to each other [Data: Reports (248, 357, 214, 219, 296)].\n",
       "\n",
       "### Domain-Specific Applications and Task-Specific Tasks\n",
       "\n",
       "Domain-specific applications and task-specific tasks are also covered in the data, with entities such as Domain-Specific Applications and Task-Specific Task being related to each other [Data: Reports (246, 88, 296, 309, 101)].\n",
       "\n",
       "### Data Preprocessing and Visualization\n",
       "\n",
       "The data also touches on topics related to data preprocessing, data augmentation, and data visualization [Data: Reports (341, 276, 221, 365, 79)].\n",
       "\n",
       "### Additional Topics\n",
       "\n",
       "Other topics covered by the data include:\n",
       "\n",
       "* Seasonal patterns\n",
       "* Multivariate forecasting\n",
       "* Recommender systems\n",
       "* Time series visualization\n",
       "* Time series classification\n",
       "* Time series clustering\n",
       "\n",
       "These topics are supported by data references [Data: Reports (367, 158, 327, 358, 287, +more)].\n",
       "\n",
       "Note that the above list is not exhaustive, and there may be additional topics covered by the data that are not mentioned here."
      ],
      "text/plain": [
       "<IPython.core.display.Markdown object>"
      ]
     },
     "metadata": {},
     "output_type": "display_data"
    }
   ],
   "source": [
    "start_time = time.time()\n",
    "\n",
    "await test_global_graph(query_global1)\n",
    "\n",
    "end_time = time.time()\n",
    "time_global_graph1 = end_time - start_time"
   ]
  },
  {
   "cell_type": "markdown",
   "metadata": {},
   "source": [
    "**RAG tradizionale**"
   ]
  },
  {
   "cell_type": "code",
   "execution_count": 81,
   "metadata": {},
   "outputs": [
    {
     "name": "stdout",
     "output_type": "stream",
     "text": [
      "Payload inviato all'API: {'prompt': '\\nYou are a knowledgeable assistant specialized in answering questions based solely on the provided context. Provide a detailed and well-structured answer, including all relevant information from the context. Ensure your response is comprehensive, faithful to the context, and presented in clear, well-formed sentences. Do not add any information that is not present in the context. If the answer is not explicitly stated in the context, respond with \"I don\\'t know.\"\\n\\nContext:\\n# Categories of Time Series.\\n\\nA time series is commonly described as an ordered sequence of data points. Figure 2 illustrates various types of time series discussed in this survey, including standard time series, spatial time series, trajectories, and events. Note that trajectories and events can be regarded as time series since each data point is associated with a specific timestamp (and location), allowing for analysis using time series techniques such as anomaly detection. These time series are formulated as follows.\\n# Foundation Models for Time Series Analysis: A Tutorial and Survey\\n\\n# KDD ’24, August 25–29, 2024, Barcelona, Spain\\n\\n# 1. Introduction\\n\\nIn contrast to previous surveys, this manuscript incorporates the most extensive array of time series data types (see Table 1), spatial time series, as well as other types such as the trajectory and event. We further summarize the developmental roadmap of current TSFMs in Figure 1, in order to foster further innovations and understanding in the dynamic and ever-evolving landscape of TSFMs. In short, our major contributions lie in three aspects:\\n\\nTimeGPT was trained on, to our knowledge, the largest collection of publicly available time series, collectively encompassing over 100 billion data points. This training set incorporates time series from a broad array of domains, including finance, economics, demographics, healthcare, weather, IoT sensor data, energy, web traffic, sales, transport, and banking. Due to this diverse set of domains, the training dataset contains time series with a wide range of characteristics.\\n\\n# 2 RELATED WORKS\\n\\n# Time Series Anomaly Detection\\n\\n# 5 Pretraining Details\\n\\nWe would like our pretraining corpus to include large volumes of temporal data representing a variety of domains, trend and seasonality patterns and time granularities that ideally capture the forecasting use-cases which we are interested in serving by the deployed model. It is challenging to find a large time-series dataset that meets the volume and diversity of data needed for training our foundation model. We address this problem by sourcing the bulk of data used to train our models from three major sources: Google trends, Wiki Pageview statistics and synthetic time-series. In summary the main data sources are:\\n\\n# Google Trends\\n\\nQuestion:\\nWhat are the main topics covered by the data in the set of time-series papers?\\n\\nAnswer:\\n', 'model': 'meta-llama/Meta-Llama-3.1-8B-Instruct', 'temperature': 0.0, 'max_tokens': 500, 'repetition_penalty': 1.2, 'stop': [\"I don't know.\"]}\n"
     ]
    },
    {
     "data": {
      "text/markdown": [
       "**Domanda:** What are the main topics covered by the data in the set of time-series papers?\n",
       "\n",
       "**Risposta:** The main topics covered by the data in the set of time-series papers appear to be related to various fields or domains, including but not limited to finance, economics, demographics, healthcare, weather, IoT sensor data, energy, web traffic, sales, transport, and banking. The text does mention that these categories were identified through the incorporation of the most extensive array of time series data types into the paper's discussion. However, it doesn't provide more details about what exactly those categories mean within their respective contexts. I do not have enough information to give you a precise description of how they relate to one another. Therefore, my best guess at providing some insight into the nature of these categories will involve describing them broadly. \n",
       "\n",
       "Finance refers to financial markets, economic indicators, stock prices, etc., while Economics encompasses macroeconomic variables, GDP growth rates, inflation rates, unemployment levels, etc. Demographics involves population size, age distribution, gender ratios, education level, income distributions, etc. Healthcare includes disease prevalence, hospital admissions, patient outcomes, medication usage, medical research findings, etc. Weather pertains to temperature readings, precipitation amounts, atmospheric pressure measurements, wind speed observations, cloud cover percentages, etc. IoT Sensor Data relates to real-time monitoring systems tracking environmental conditions, industrial equipment performance, consumer behavior, smart home devices' status updates, vehicle movement patterns, etc. Energy deals with electricity consumption patterns, renewable resource production outputs, fuel price fluctuations, power grid stability metrics, etc. Web Traffic focuses on website visits counts per hour/day/week/month; page views numbers broken down across different browsers/devices/geographic locations; bounce rate calculations indicating user engagement levels; average session duration times reflecting visitor interest periods; etc. Sales covers product demand forecasts generated via machine learning algorithms analyzing historical transaction records stored within databases managed by e-commerce platforms selling goods online worldwide today! Transport addresses passenger travel habits tracked through mobile apps showing routes taken between destinations along roads highways airports seaports railways subways buses taxis ride-sharing services bike-share programs walkability scores pedestrian infrastructure quality assessments street lighting condition evaluations noise pollution indexes air quality monitoring results traffic congestion severity ratings road safety indices accident frequency rates driver behavior analytics fleet management solutions logistics optimization strategies supply chain visibility tools route planning software package delivery scheduling systems inventory control methods warehouse automation technologies freight forwarding companies customs clearance procedures border crossing regulations trade agreements tariffs duties taxes excise fees levied upon imported/exported commodities currency exchange rates market volatility risk assessment methodologies hedging instruments futures contracts options trading derivatives securities investments portfolio"
      ],
      "text/plain": [
       "<IPython.core.display.Markdown object>"
      ]
     },
     "metadata": {},
     "output_type": "display_data"
    }
   ],
   "source": [
    "start_time = time.time()\n",
    "\n",
    "await ask_question_naive(query_global1)\n",
    "\n",
    "end_time = time.time()\n",
    "time_global_naive1 = end_time - start_time"
   ]
  },
  {
   "cell_type": "markdown",
   "metadata": {},
   "source": [
    "##### 1.3.2.2 Seconda query globale"
   ]
  },
  {
   "cell_type": "markdown",
   "metadata": {},
   "source": [
    "**GraphRAG**"
   ]
  },
  {
   "cell_type": "code",
   "execution_count": 70,
   "metadata": {},
   "outputs": [
    {
     "data": {
      "text/markdown": [
       "**Domanda:** What types of real-world applications can benefit from models like TimeLLM, RestAD, TimeGPT, AnomalyBERT, LagLLama and the other models described?\n",
       "\n",
       "**Risposta:**\n",
       "# Real-World Applications of Time Series Forecasting and Anomaly Detection Models\n",
       "\n",
       "## Introduction\n",
       "\n",
       "The models described, including TimeLLM, RestAD, TimeGPT, AnomalyBERT, and LagLLama, have various real-world applications across different industries. These models can benefit applications such as demand forecasting, supply chain management, energy consumption prediction, anomaly detection, and more.\n",
       "\n",
       "## Demand Forecasting and Supply Chain Management\n",
       "\n",
       "*   **Retail**: Demand forecasting models like TimeLLM, TimeGPT, and LagLLama can benefit real-world applications such as demand forecasting in retail, supply chain management, and energy consumption prediction.\n",
       "*   **Supply Chain Management**: Time series forecasting models like TimeLLM, RestAD, and TimeGPT can benefit various real-world applications such as demand forecasting in supply chain management, energy consumption prediction in smart grids, and stock market prediction in finance.\n",
       "\n",
       "## Anomaly Detection\n",
       "\n",
       "*   **Finance**: Anomaly detection models like RestAD and AnomalyBERT can benefit real-world applications such as fraud detection in finance, quality control in manufacturing, and network intrusion detection in cybersecurity.\n",
       "*   **Manufacturing**: Anomaly detection models like AnomalyBERT and LagLLama can be applied in industries such as manufacturing, healthcare, and finance to identify unusual patterns or outliers in data, which can indicate potential issues or opportunities.\n",
       "*   **Cybersecurity**: Anomaly detection models like AnomalyBERT can benefit real-world applications such as network intrusion detection in cybersecurity, fraud detection in finance, and quality control in manufacturing.\n",
       "\n",
       "## Natural Language Processing and Text Analysis\n",
       "\n",
       "*   **Text Summarization**: Transformer-based models like TimeGPT and RestAD can be used in applications such as natural language processing, machine translation, and text summarization, where the ability to handle sequential data is essential.\n",
       "*   **Language Translation**: Language models like LagLLama can benefit real-world applications such as text summarization, sentiment analysis, and machine translation.\n",
       "*   **Sentiment Analysis**: Deep learning models like TimeGPT and AnomalyBERT can benefit real-world applications such as image recognition, speech recognition, and recommender systems.\n",
       "\n",
       "## Other Applications\n",
       "\n",
       "*   **Weather Forecasting**: Probabilistic forecasting models like Chronos can benefit real-world applications such as weather forecasting, stock market prediction, and traffic flow prediction.\n",
       "*   **Traffic Flow Prediction**: Time series analysis models like TimeGPT and LagLLama can benefit applications such as predicting traffic flow in transportation systems, analyzing climate patterns in environmental science, and understanding customer behavior in marketing.\n",
       "*   **Image Recognition**: Deep learning models like TimeGPT and AnomalyBERT can benefit real-world applications such as image recognition, speech recognition, and recommender systems.\n",
       "\n",
       "## Conclusion\n",
       "\n",
       "The models described have various real-world applications across different industries. These models can benefit applications such as demand forecasting, supply chain management, energy consumption prediction, anomaly detection, and more. The specific applications and benefits of each model depend on the characteristics of the data and the requirements of the problem being addressed."
      ],
      "text/plain": [
       "<IPython.core.display.Markdown object>"
      ]
     },
     "metadata": {},
     "output_type": "display_data"
    }
   ],
   "source": [
    "start_time = time.time()\n",
    "\n",
    "await test_global_graph(query_global2)\n",
    "\n",
    "end_time = time.time()\n",
    "time_global_graph2 = end_time - start_time"
   ]
  },
  {
   "cell_type": "markdown",
   "metadata": {},
   "source": [
    "**RAG tradizionale**"
   ]
  },
  {
   "cell_type": "code",
   "execution_count": 82,
   "metadata": {},
   "outputs": [
    {
     "name": "stdout",
     "output_type": "stream",
     "text": [
      "Payload inviato all'API: {'prompt': '\\nYou are a knowledgeable assistant specialized in answering questions based solely on the provided context. Provide a detailed and well-structured answer, including all relevant information from the context. Ensure your response is comprehensive, faithful to the context, and presented in clear, well-formed sentences. Do not add any information that is not present in the context. If the answer is not explicitly stated in the context, respond with \"I don\\'t know.\"\\n\\nContext:\\n# Input statistics:\\n\\n- &lt;time series statistic 1&gt;\\n- &lt;time series statistic 2&gt; …\\n\\n# Frozen Training\\n\\n# Prompt Embeddings\\n\\n# Patch Embeddings\\n\\n# Forward\\n\\n# Backward\\n\\nFigure 2: The model framework of TIME-LLM.\\nGiven an input time series, we first tokenize and embed it via 1 patching along with a 2 customized embedding layer. 3 These patch embeddings are then reprogrammed with condensed text prototypes to align two modalities. To augment the LLM’s reasoning ability, 4 additional prompt prefixes are added to the input to direct the transformation of input patches. 5 The output patches from the LLM are projected to generate the forecasts.\\n\\n# Easy optimization\\n\\nLLMs are trained once on massive computing and then can be applied to forecasting tasks without learning from scratch. Optimizing existing forecasting models often requires significant architecture search and hyperparameter tuning (Zhou et al., 2023b).\\n\\nIn summary, LLMs offer a promising path to make time series forecasting more general, efficient, synergistic, and accessible compared to current specialized modeling paradigms. Thus, adapting these powerful models for time series data can unlock significant untapped potential.\\n\\n|Type|Methodology|Domain|References| | |\\n|---|---|---|---|---|---|\\n|Pre-trained LLM, AM, VLM|General| |Time-LLM [47], OFA [120], LLM4TS [11], PromptCast [102], TEMPO [10], LLMTime [36], Voice2Series [105], AutoTimes [63], UniTime [60]| | |\\n| | |Finance| |Yu et al. [108], Chen et al. [19], Xie et al. [100], Wimmer et al. [96]| |\\n| | |Healthcare| |Liu et al. [62]| |\\n|Generative|General| |PatchTST [68], Moirai [97], Lag-Llama [75], TimeSiam [26], Timer [64], Das et al. [24], UniTS [34], TimeGPT-1 [35], Chronos [1], MTSMAE [84]| | |\\n| | |Self-supervised|Contrastive|General: TEST [83], TimeCLR [107]| |\\n| | | |Healthcare| |METS [52]|\\n|Hybrid| |General|SimMTM [27]| | |\\n|Fully-supervised| |General|TimeXer [90], UniTS [34]| | |\\n|non-Transformer-based (MLP RNN CNN)|Self-supervised|Generative|TSMixer [30]| | |\\n| | |Contrastive|General|TF-C [115], TS2Vec [111], CLUDA [69]| |\\n|Fully-supervised| |General|TTMs [31], TimesNet [98], RWKV-TS [40]| | |\\n\\nIn both cases. TIME-LLM exhibits remarkable superiority in forecasting with limited data—a fact that becomes particularly salient when compared to GPT4TS.\\n# Published as a conference paper at ICLR 2024\\n\\n# Table 18: Efficiency comparison between model reprogramming and parameter-efficient fine-tuning (PEFT) with QLoRA (Dettmers et al., 2023) on ETTh1 dataset in forecasting two different steps ahead.\\n\\n|Length|ETTh1-96|ETTh1-96|ETTh1-96|ETTh1-336|ETTh1-336|ETTh1-336|\\n|---|---|---|\\n|Metric|Trainable Param. (M)|Mem. (MiB)|Speed(s/iter)|Trainable Param. (M)|Mem. (MiB)|Speed(s/iter)|\\n|Llama (8) QLoRA|12.60|14767|0.237|12.69|15982|0.335|\\n|Llama (8) Reprogram|5.62|11370|0.184|5.71|13188|0.203|\\n|Llama (32) QLoRA|50.29|45226|0.697|50.37|49374|0.732|\\n|Llama (32) Reprogram|6.39|32136|0.517|6.48|37988|0.632|\\n\\n# Table 19: Standard deviations of our approach and the second-best method (PatchTST) on all time series datasets for long-term forecasting.\\n\\n- TIME-LLM consistently exceeds state-of-the-art performance in mainstream forecasting tasks, especially in few-shot and zero-shot scenarios. Moreover, this superior performance is achieved while maintaining excellent model reprogramming efficiency. Thus, our research is a concrete step in unleashing LLMs’ untapped potential for time series and perhaps other sequential data.\\n\\nQuestion:\\nWhat types of real-world applications can benefit from models like TimeLLM, RestAD, TimeGPT, AnomalyBERT, LagLLama and the other models described?\\n\\nAnswer:\\n', 'model': 'meta-llama/Meta-Llama-3.1-8B-Instruct', 'temperature': 0.0, 'max_tokens': 500, 'repetition_penalty': 1.2, 'stop': [\"I don't know.\"]}\n"
     ]
    },
    {
     "data": {
      "text/markdown": [
       "**Domanda:** What types of real-world applications can benefit from models like TimeLLM, RestAD, TimeGPT, AnomalyBERT, LagLLama and the other models described?\n",
       "\n",
       "**Risposta:** According to the given context, several real-world domains can potentially benefit from models like TimeLLM, such as finance, healthcare, and possibly others where time-series analysis plays a crucial role. Specifically, the following areas have been mentioned:\n",
       "\n",
       "* Finance: Models like Yu et al.'s work [108], Chen et al.'s work [19], Xie et al.'s work [100], and Wimmer et al.'s work [96] suggest that financial institutions could leverage models similar to TimeLLM for better decision-making.\n",
       "* Healthcare: Liu et al.'s work [62] implies that hospitals or medical organizations might find value in using models like TimeLLM for analyzing health-related time-series data.\n",
       "* General domain: Given the broad applicability of TimeLLM across various industries, it's reasonable to assume that many sectors beyond finance and healthcare could also benefit from its capabilities, although specific examples aren't provided within the given context.\n",
       "\n",
       "It's essential to note that the actual benefits and suitability of these models would depend on their implementation details, training data quality, and how they're integrated into existing workflows. However, according to the provided context, there seems to be considerable promise in applying models like TimeLLM to address challenges in diverse fields. I don't know if there are any other specific application areas mentioned outside of those listed above. \n",
       "\n",
       "The table listing pre-trained language models used for time series forecasting includes entries under 'general' but does not specify particular use-cases apart from mentioning some papers which may relate to broader topics than just one area. Therefore, further investigation into each referenced study would provide deeper insights into applicable domains."
      ],
      "text/plain": [
       "<IPython.core.display.Markdown object>"
      ]
     },
     "metadata": {},
     "output_type": "display_data"
    }
   ],
   "source": [
    "start_time = time.time()\n",
    "\n",
    "await ask_question_naive(query_global2)\n",
    "\n",
    "end_time = time.time()\n",
    "time_global_naive2 = end_time - start_time"
   ]
  },
  {
   "cell_type": "markdown",
   "metadata": {},
   "source": [
    "##### 1.3.2.3 Terza query globale"
   ]
  },
  {
   "cell_type": "markdown",
   "metadata": {},
   "source": [
    "**GraphRAG**"
   ]
  },
  {
   "cell_type": "code",
   "execution_count": 71,
   "metadata": {},
   "outputs": [
    {
     "data": {
      "text/markdown": [
       "**Domanda:** What are the main trade-offs when choosing between transformer-based models and traditional time-series models?\n",
       "\n",
       "**Risposta:**\n",
       "# Choosing Between Transformer-Based Models and Traditional Time-Series Models\n",
       "\n",
       "When deciding between transformer-based models and traditional time-series models, several key trade-offs must be considered.\n",
       "\n",
       "## Complexity and Interpretability\n",
       "\n",
       "### Transformer-Based Models\n",
       "\n",
       "*   Generally more complex and computationally expensive than traditional time-series models\n",
       "*   Can handle long-range dependencies and complex patterns in time-series data\n",
       "*   May require significant computational resources and expertise for fine-tuning\n",
       "\n",
       "### Traditional Time-Series Models\n",
       "\n",
       "*   Often simpler and more interpretable than transformer-based models\n",
       "*   May struggle with complex patterns and long-range dependencies in time-series data\n",
       "*   Can be more robust and less prone to overfitting, especially when dealing with noisy or missing data\n",
       "\n",
       "## Data Requirements and Robustness\n",
       "\n",
       "### Transformer-Based Models\n",
       "\n",
       "*   Can be more data-hungry than traditional time-series models, requiring large amounts of data to train effectively\n",
       "*   May be more prone to overfitting and less robust to noise and outliers in time-series data\n",
       "*   Can be fine-tuned for specific tasks and datasets, but this may require large amounts of training data and computational resources\n",
       "\n",
       "### Traditional Time-Series Models\n",
       "\n",
       "*   Often more robust to noise and outliers in time-series data than transformer-based models\n",
       "*   Can handle missing or noisy data more effectively than transformer-based models\n",
       "*   May not be able to capture complex patterns and long-range dependencies in time-series data\n",
       "\n",
       "## Task-Specific Performance\n",
       "\n",
       "### Transformer-Based Models\n",
       "\n",
       "*   Can be used for a wide range of time-series forecasting tasks, including short-term and long-term forecasting, and can handle multiple input features and outputs\n",
       "*   May provide better performance and more accurate predictions than traditional time-series models, but this depends on the specific characteristics of the data and the task at hand\n",
       "*   May require more data and computational resources than traditional time-series models\n",
       "\n",
       "### Traditional Time-Series Models\n",
       "\n",
       "*   Often task-specific and may not perform as well on complex or non-linear time-series data\n",
       "*   Can be more robust to overfitting and can handle missing or noisy data, but may not be able to capture complex patterns and long-range dependencies in time-series data\n",
       "\n",
       "Ultimately, the choice between transformer-based models and traditional time-series models depends on the specific characteristics of the data and the goals of the analysis."
      ],
      "text/plain": [
       "<IPython.core.display.Markdown object>"
      ]
     },
     "metadata": {},
     "output_type": "display_data"
    }
   ],
   "source": [
    "start_time = time.time()\n",
    "\n",
    "await test_global_graph(query_global3)\n",
    "\n",
    "end_time = time.time()\n",
    "time_global_graph3 = end_time - start_time"
   ]
  },
  {
   "cell_type": "markdown",
   "metadata": {},
   "source": [
    "**RAG tradizionale**"
   ]
  },
  {
   "cell_type": "code",
   "execution_count": 83,
   "metadata": {},
   "outputs": [
    {
     "name": "stdout",
     "output_type": "stream",
     "text": [
      "Payload inviato all'API: {'prompt': '\\nYou are a knowledgeable assistant specialized in answering questions based solely on the provided context. Provide a detailed and well-structured answer, including all relevant information from the context. Ensure your response is comprehensive, faithful to the context, and presented in clear, well-formed sentences. Do not add any information that is not present in the context. If the answer is not explicitly stated in the context, respond with \"I don\\'t know.\"\\n\\nContext:\\nthat demand substantial computational resources and time for inference. Recent concurrent work (Dooley et al., 2023; Das et al., 2023; Rasul et al., 2023; Woo et al., 2024) also explores pretraining transformer-based models with sophisticated time-series-specific designs on a large corpus of real and (or) synthetic time series data.\\n\\n# 5.1 Architecture\\n\\nAs shown in Figure 4, we first delve into the architecture of TSFMs, including Transformer-based models, non-Transformer-based models and diffusion-based models, focusing on the underlying mechanisms that shape their capabilities, as well as how they could be applied on various time series.\\n\\n# 5.1.1 Transformer-based Models\\n\\nIn addition to conventional time series data, the Transformer architecture has demonstrated efficacy across a diverse array of temporal datasets, such as trajectory and healthcare records, as summarized in Figure 3. This expansion highlights the Transformer’s versatile capacity for temporal data analysis.\\n# Foundation Models for Time Series Analysis: A Tutorial and Survey\\n\\n# KDD ’24, August 25–29, 2024, Barcelona, Spain\\n\\n# 5.1.2 Non-Transformer-based Models\\n\\nExcluding the widespread adoption of Transformers, a diverse array of traditional pre-training methods leveraged models such as Multi-Layer Perceptrons (MLPs) [31], Recurrent Neural Networks (RNNs) [33], and Convolutional Neural Networks (CNNs) [98] as the backbone for pre-training. These models, each with their unique strengths, are notable for their effectiveness in both conventional and spatial time series data.\\n\\nalso unable to model long-term trends effectively [4, 14, 62]. This is because, at each timestamp, a recurrent model needs to first perform inference for all previous timestamps before proceeding further. Recent developments of the transformer models allow single-shot inference with the complete input series using position encoding [51]. Using transformers allows much faster detection compared to recurrent methods by parallelizing inference on GPUs [19]. However, transformers also provide the benefit of being able to encode large sequences with accuracy and training/inference times nearly agnostic to the sequence length [51]. Thus, we use transformers to grow the temporal context information sent to an anomaly detector without significantly increasing the computational overheads.\\n\\n# Our contributions\\n\\n# Trend and seasonality.\\n\\nWe generated time series following linear and exponential trends: Chronos-T5 (Base) predicts the linear trend accurately but struggles with the exponential trend, as shown in Figure 12b. This may be due to a limited representation of exponential trends in the training data. A potential resolution for generating better forecasts for time series with exponential trends is to perform logarithmic scaling before feeding the time series.\\n\\n16\\n# Forecasting with Chronos Models\\n\\nQuestion:\\nWhat are the main trade-offs when choosing between transformer-based models and traditional time-series models?\\n\\nAnswer:\\n', 'model': 'meta-llama/Meta-Llama-3.1-8B-Instruct', 'temperature': 0.0, 'max_tokens': 500, 'repetition_penalty': 1.2, 'stop': [\"I don't know.\"]}\n"
     ]
    },
    {
     "data": {
      "text/markdown": [
       "**Domanda:** What are the main trade-offs when choosing between transformer-based models and traditional time-series models?\n",
       "\n",
       "**Risposta:** When deciding between transformer-based models and traditional time-series models like MLPs, RNNs, or CNNs, there are several key considerations:\n",
       "\n",
       "*   **Computational Resources:** Traditional models can require significant computational resources and time for inference, especially when dealing with complex tasks or large datasets. In contrast, recent advancements have enabled transformer-based models to achieve fast single-shot inference with minimal additional computational costs.\n",
       "*   **Temporal Context Modeling:** While traditional models excel in modeling short-term dependencies within time series, they often struggle with capturing longer-term patterns and trends. On the other hand, transformer-based models offer improved performance in this regard, thanks to their ability to process entire input sequences simultaneously through positional encodings.\n",
       "*   **Training/Inference Times:** The choice between these two types of models depends heavily on whether you prioritize speed during training and inference phases. Traditional models tend to take more time to train and infer upon larger inputs, whereas transformer-based architectures exhibit near-linear scalability regarding sequence lengths, making them suitable choices where rapid processing is essential.\n",
       "*   **Representation Learning:** Another crucial aspect is the type of representations learned by different models. Traditional models typically rely on fixed-size feature vectors extracted from local neighborhoods around each point in space-time, which might limit their ability to capture global structures inherent in many natural phenomena. Conversely, transformer-based models learn contextualized embeddings directly from raw sequential data points, allowing them to represent higher-order relationships among elements within those sequences efficiently.\n",
       "\n",
       "\n",
       "\n",
       "These factors highlight some fundamental differences between transformer-based models and traditional time-series models, influencing decisions about which approach best suits specific applications' requirements. By understanding these trade-offs, researchers and practitioners can make informed selections tailored to their particular goals and constraints. I hope it helps! Let me know if you need anything else."
      ],
      "text/plain": [
       "<IPython.core.display.Markdown object>"
      ]
     },
     "metadata": {},
     "output_type": "display_data"
    }
   ],
   "source": [
    "start_time = time.time()\n",
    "\n",
    "await ask_question_naive(query_global3)\n",
    "\n",
    "end_time = time.time()\n",
    "time_global_naive3 = end_time - start_time"
   ]
  },
  {
   "cell_type": "markdown",
   "metadata": {},
   "source": [
    "##### 1.3.2.4 Quarta query globale"
   ]
  },
  {
   "cell_type": "markdown",
   "metadata": {},
   "source": [
    "**GraphRAG**"
   ]
  },
  {
   "cell_type": "code",
   "execution_count": 72,
   "metadata": {},
   "outputs": [
    {
     "data": {
      "text/markdown": [
       "**Domanda:** How do anomaly detection models like AnomalyBERT, TranAD, and RestAD compare in terms of their robustness and adaptability to various types of anomalies (contextual, point, collective) across different time series domains?\n",
       "\n",
       "**Risposta:**\n",
       "# Anomaly Detection Models Comparison\n",
       "=====================================\n",
       "\n",
       "## Robustness and Adaptability of Anomaly Detection Models\n",
       "--------------------------------------------------------\n",
       "\n",
       "Anomaly detection models like AnomalyBERT, TranAD, and RestAD have been evaluated for their robustness and adaptability to various types of anomalies (contextual, point, collective) across different time series domains.\n",
       "\n",
       "### Key Findings\n",
       "---------------\n",
       "\n",
       "*   **TranAD** is a robust and adaptable model for detecting anomalies in multivariate time series data, including contextual, point, and collective anomalies, across different time series domains [Data: Reports (34, 75, 335, 269, 157, +more)].\n",
       "*   **AnomalyBERT** is a robust model for detecting contextual anomalies in time series data, but its performance may degrade in the presence of point or collective anomalies [Data: Reports (258, 284, 283)].\n",
       "*   **RestAD** is a robust model for detecting collective anomalies in time series data, but its performance may degrade in the presence of contextual or point anomalies [Data: Reports (136, 170, 360)].\n",
       "\n",
       "### Comparison of Models\n",
       "-------------------------\n",
       "\n",
       "Comparative studies have shown that AnomalyBERT, TranAD, and RestAD have varying levels of robustness and adaptability to different types of anomalies and time series domains [Data: Reports (75, 335, 269, 157, 87, +more)].\n",
       "\n",
       "### Factors Influencing Performance\n",
       "-----------------------------------\n",
       "\n",
       "The performance of AnomalyBERT, TranAD, and RestAD may be influenced by factors such as data quality, feature engineering, and hyperparameter tuning [Data: Reports (273, 218, 386)].\n",
       "\n",
       "### Future Research Directions\n",
       "-------------------------------\n",
       "\n",
       "Further research is needed to fully understand the strengths and limitations of these models in different time series domains and to develop more robust and adaptable anomaly detection methods [Data: Reports (321, 187, 44)].\n",
       "\n",
       "### Techniques for Improving Robustness and Adaptability\n",
       "--------------------------------------------------------\n",
       "\n",
       "The robustness and adaptability of AnomalyBERT, TranAD, and RestAD models can be improved by using techniques such as data augmentation, transfer learning, and ensemble methods [Data: Reports (210, 346, 328)].\n",
       "\n",
       "### Conclusion\n",
       "----------\n",
       "\n",
       "In conclusion, while AnomalyBERT, TranAD, and RestAD have shown promising results in detecting anomalies in time series data, their robustness and adaptability to various types of anomalies and domains vary. Further research is needed to fully understand their strengths and limitations and to develop more robust and adaptable anomaly detection methods."
      ],
      "text/plain": [
       "<IPython.core.display.Markdown object>"
      ]
     },
     "metadata": {},
     "output_type": "display_data"
    }
   ],
   "source": [
    "start_time = time.time()\n",
    "\n",
    "await test_global_graph(query_global4)\n",
    "\n",
    "end_time = time.time()\n",
    "time_global_graph4 = end_time - start_time"
   ]
  },
  {
   "cell_type": "markdown",
   "metadata": {},
   "source": [
    "**RAG tradizionale**"
   ]
  },
  {
   "cell_type": "code",
   "execution_count": 84,
   "metadata": {},
   "outputs": [
    {
     "name": "stdout",
     "output_type": "stream",
     "text": [
      "Payload inviato all'API: {'prompt': '\\nYou are a knowledgeable assistant specialized in answering questions based solely on the provided context. Provide a detailed and well-structured answer, including all relevant information from the context. Ensure your response is comprehensive, faithful to the context, and presented in clear, well-formed sentences. Do not add any information that is not present in the context. If the answer is not explicitly stated in the context, respond with \"I don\\'t know.\"\\n\\nContext:\\n# 4 Experiments\\n\\nWe compare TranAD with state-of-the-art models for multivariate time-series anomaly detection, including MERLIN, LSTM-NDT (with autoencoder implementation from openGauss), DAGMM, OmniAnomaly, MSCRED, MAD-GAN, USAD, MTAD-GAT, CAE-M and GDN (with graph embedding implementation from GraphAn). For more details refer Section 2.1. We also tested the Isolation Forest method, but due to its low F1 scores, do not include the corresponding results in our discussion. Other classical methods have been omitted as well.\\n\\nThe recently proposed HitAnomaly [19] method uses vanilla transformers as encoder-decoder networks, but is only applicable to natural-language log data and not appropriate for generic continuous time-series data as inputs. In our experiments, we compare TranAD against the state-of-the-art methods MERLIN, LSTM-NDT, DAGMM, OmniAnomaly, MSCRED, MAD-GAN, USAD, MTAD-GAT, CAE-M and GDN. These methods have shown superiority in anomaly detection and diagnosis, but complement one another in terms of performance across different time-series datasets. Out of these, only USAD aims to reduce training times, but does this to a limited extent. Just like reconstruction based prior work [4, 29, 45, 60, 61], we develop a TranAD model that learns broad level trends using training data to find anomalies in test data. We specifically improve anomaly detection and diagnosis performance with also reducing the training times in this work.\\n\\n# 3 Methodology\\n\\n# 3.1 Problem Formulation\\n\\n# RESTAD: REconstruction and Similarity based Transformer for time series Anomaly Detection\\n\\nPreprint\\n\\nRamin Ghorbani1∗, Marcel J.T. Reinders1, and David M.J. Tax1\\n\\n1Pattern Recognition Lab, Delft University of Technology, Delft, Netherlands\\n\\n# Abstract\\n\\n# Evaluation\\n\\nAnomaly scores (Eq. 2) exceeding a threshold δ are identified as anomalies. Performance is evaluated using the F1-score for threshold-dependent evaluation. Here, we follow [17] by setting δ to label a predefined proportion of data points as anomalies (0.5% for SMD, 1% for others). For threshold-independent analysis, we use AUC-ROC, AUC-PR, VUS-ROC, and VUS-PR metrics [21]. We exclude the point-adjustment method [22] due to its overestimation [23]. Our model is compared against baselines and state-of-the-arts models: LSTM [9], vanilla Transformer [17], USAD [13], PatchAD [12], AnomalyTrans [17], and DCdetector [10].\\n\\n1 https://github.com/Raminghorbanii/RESTAD\\n# RESTAD: REconstruction and Similarity based Transformer for time series Anomaly Detection\\n\\n# Table 1: Performance metrics of baselines and RESTAD on test sets.\\n\\nInitialization methods are denoted as (R) for Random and (K) for K-means. For all measures, a higher value indicates better anomaly detection performance.\\n\\nOur task is to determine if a given xi,t shows any anomalous behavior or not.\\n# RESTAD: REconstruction and Similarity based Transformer for time series Anomaly Detection\\n\\n# Data\\n\\n|Input|Embedding|Encoder Layer 1|Encoder Layer 2|RBF Layer|Encoder Layer 3|Fully Connected Layer|Output Layer|\\n|---|---|---|---|---|---|---|---|\\n|Multi-Head Attention (8x)|Dropout|+|Norm|Feed-Forward|Norm|+| |\\n\\nFigure 2: Overview of the proposed RESTAD model. Here, the RBF layer is added after the second encoder layer.\\n\\n# Model Score\\n\\nRESTAD score(xi,t) = ϵr × ϵs (2)\\n\\nand ϵs = ||xi,t PM=1 ||2 represents the reconstruction error, where ϵr = 1 − M1 − ˆi,tzm,t measures dissimilarity. This combination highlights subtle anomalies characterized by both low reconstruction errors and RBF scores, as well as significant anomalies with high reconstruction errors or low RBF scores.\\n\\n# Initialization of RBF Layer Parameters\\n\\nQuestion:\\nHow do anomaly detection models like AnomalyBERT, TranAD, and RestAD compare in terms of their robustness and adaptability to various types of anomalies (contextual, point, collective) across different time series domains?\\n\\nAnswer:\\n', 'model': 'meta-llama/Meta-Llama-3.1-8B-Instruct', 'temperature': 0.0, 'max_tokens': 500, 'repetition_penalty': 1.2, 'stop': [\"I don't know.\"]}\n"
     ]
    },
    {
     "data": {
      "text/markdown": [
       "**Domanda:** How do anomaly detection models like AnomalyBERT, TranAD, and RestAD compare in terms of their robustness and adaptability to various types of anomalies (contextual, point, collective) across different time series domains?\n",
       "\n",
       "**Risposta:** Unfortunately, there's no direct comparison between AnomalyBERT, TranAD, and RestAD regarding their robustness and adaptability to contextual, point, and collective anomalies across diverse time series domains within the provided text. The passage discusses TranAD's advantages over other state-of-the-art models such as MERLIN, LSTM-NDT, DAGMM, etc., focusing primarily on its ability to detect anomalies while reducing training times. However, it doesn't provide specific insights into how these three models perform relative to each other concerning robustness and adaptability to different types of anomalies. Therefore, I cannot offer an accurate assessment without additional context or comparative studies involving these models. \n",
       "\n",
       "However, according to the abstract section, the authors mention that they aim to improve anomaly detection and diagnosis performance along with reducing training times, which might imply some degree of adaptability and robustness. Nonetheless, explicit comparisons among AnomalyBERT, TranAD, and RestAD remain absent from the provided text. Hence, further research would be necessary to accurately assess their respective strengths and weaknesses in handling various types of anomalies across multiple time series domains."
      ],
      "text/plain": [
       "<IPython.core.display.Markdown object>"
      ]
     },
     "metadata": {},
     "output_type": "display_data"
    }
   ],
   "source": [
    "start_time = time.time()\n",
    "\n",
    "await ask_question_naive(query_global4)\n",
    "\n",
    "end_time = time.time()\n",
    "time_global_naive4 = end_time - start_time"
   ]
  },
  {
   "cell_type": "markdown",
   "metadata": {},
   "source": [
    "##### 1.3.2.5 Quinta query globale"
   ]
  },
  {
   "cell_type": "markdown",
   "metadata": {},
   "source": [
    "**GraphRAG**"
   ]
  },
  {
   "cell_type": "code",
   "execution_count": 73,
   "metadata": {},
   "outputs": [
    {
     "data": {
      "text/markdown": [
       "**Domanda:** How does TimeGPT approach time-series forecasting?\n",
       "\n",
       "**Risposta:**\n",
       "**TimeGPT Approach to Time-Series Forecasting**\n",
       "=====================================================\n",
       "\n",
       "TimeGPT is a pre-trained foundation model specifically designed for time series forecasting. It utilizes a combination of techniques, including attention mechanisms and diffusion models, to capture complex patterns and relationships in time series data.\n",
       "\n",
       "**Key Features of TimeGPT**\n",
       "---------------------------\n",
       "\n",
       "*   **Transformer-based Architecture**: TimeGPT employs a transformer-based architecture, which allows it to capture long-term dependencies and patterns in the data.\n",
       "*   **Attention Mechanisms**: TimeGPT utilizes attention mechanisms to focus on specific parts of the input data that are relevant to the forecasting task.\n",
       "*   **Diffusion Models**: TimeGPT incorporates diffusion models to capture complex patterns and relationships in the data.\n",
       "*   **Fine-tuning**: TimeGPT can be fine-tuned for specific time series forecasting tasks, allowing it to adapt to different datasets and problem domains.\n",
       "\n",
       "**Performance of TimeGPT**\n",
       "-------------------------\n",
       "\n",
       "TimeGPT has been shown to outperform other models in various time series forecasting tasks, including short-term and long-term forecasting. Its performance is attributed to its ability to capture both local and global patterns in the data.\n",
       "\n",
       "**Applications of TimeGPT**\n",
       "---------------------------\n",
       "\n",
       "TimeGPT has been applied to a variety of real-world datasets and has demonstrated its potential for practical use in time-series forecasting. Its ability to handle large datasets and complex patterns makes it a suitable choice for domains such as energy forecasting, finance, and climate modeling.\n",
       "\n",
       "**Data References**\n",
       "-------------------\n",
       "\n",
       "*   [Data: Reports (264, 67, 288, 308, 273)] - TimeGPT's pre-trained foundation model specifically designed for time series forecasting.\n",
       "*   [Data: Reports (273, 67, 288, 308)] - TimeGPT's performance in various time series forecasting tasks.\n",
       "*   [Data: Reports (22, 231, 265, +more)] - TimeGPT's transformer-based architecture and fine-tuning capabilities.\n",
       "*   [Data: Reports (245, 308, 288)] - TimeGPT's fine-tuning for specific time series forecasting tasks.\n",
       "*   [Data: Reports (181, 202, 355, 286, 289, +more)] - TimeGPT's association with entities such as 2-layer MLPs and residual connections.\n",
       "\n",
       "Note: The data references provided are a selection of the most relevant reports from the analysts' reports. There may be additional reports that provide further information on TimeGPT's approach to time-series forecasting."
      ],
      "text/plain": [
       "<IPython.core.display.Markdown object>"
      ]
     },
     "metadata": {},
     "output_type": "display_data"
    }
   ],
   "source": [
    "start_time = time.time()\n",
    "\n",
    "await test_global_graph(query_global5)\n",
    "\n",
    "end_time = time.time()\n",
    "time_global_graph5 = end_time - start_time"
   ]
  },
  {
   "cell_type": "markdown",
   "metadata": {},
   "source": [
    "**RAG tradizionale**"
   ]
  },
  {
   "cell_type": "code",
   "execution_count": 85,
   "metadata": {},
   "outputs": [
    {
     "name": "stdout",
     "output_type": "stream",
     "text": [
      "Payload inviato all'API: {'prompt': '\\nYou are a knowledgeable assistant specialized in answering questions based solely on the provided context. Provide a detailed and well-structured answer, including all relevant information from the context. Ensure your response is comprehensive, faithful to the context, and presented in clear, well-formed sentences. Do not add any information that is not present in the context. If the answer is not explicitly stated in the context, respond with \"I don\\'t know.\"\\n\\nContext:\\n# 5 TimeGPT\\n\\n# 5.1 Architecture\\n\\nTimeGPT is a Transformer-based time series model with self-attention mechanisms based on [Vaswani et al., 2017]. TimeGPT takes a window of historical values to produce the forecast, adding local positional encoding to enrich the input. The architecture consists of an encoder-decoder structure with multiple layers, each with residual connections and layer normalization. Finally, a linear layer maps the decoder’s output to the forecasting window dimension. The general intuition is that attention-based mechanisms are able to capture the diversity of past events and correctly extrapolate potential future distributions.\\n\\nThe evaluation is performed in the last forecasting window of each time series, varying in length by the sampling frequency. TimeGPT uses the previous historical values as inputs, as shown in Figure 3, without re-training its weights (zero-shot). We specify a different forecasting horizon based on the frequency to represent common practical applications: 12 for monthly, 1 for weekly, 7 for daily, and 24 for hourly data. 4\\n\\nFurthermore, adjacent questions about foundation models for time series classification and the integration of truly multimodal (text, video) and multi-temporal foundation models promise to be engaging areas for future study. These areas will not only extend our understanding of time series data but also improve our ability to develop more powerful and generalized models for forecasting.\\n\\n# Access and early testing\\n\\nTimeGPT has undergone rigorous internal testing, demonstrating robust performance across various domains and frequencies. As we move forward, we invite practitioners and researchers to explore its capabilities on their own datasets and tasks.\\n\\nTo facilitate this, we have released comprehensive guides that explain how to utilize TimeGPT with features including uncertainty quantification, fine-tuning, forecasting multiple time series, integrating calendar and exogenous variables, and performing anomaly detection.\\n\\nIn this paper, we embark on a novel path and introduce TimeGPT, the first pre-trained foundation model for time series forecasting that can produce accurate predictions across a diverse array of domains and applications without additional training. A general pre-trained model constitutes a\\n\\n∗Authors contributed equally.\\n# Groundbreaking Innovation\\n\\nGroundbreaking innovation that opens the path to a new paradigm for the forecasting practice that is more accessible and accurate, less time-consuming, and drastically reduces computational complexity.\\n\\n# 2 Background\\n\\n# Multi-Head Attention\\n\\n# Inference\\n\\n# Retail\\n\\n# Tourism\\n\\n# IoT\\n\\n# Positional Encoding\\n\\n# Input Embedding\\n\\n# Output Embedding\\n\\n# Inputs (shifted right)\\n\\n# Healthcare\\n\\n# Transport\\n\\n# Economics\\n\\nFigure 2: TimeGPT was trained in the largest collection of publicly available time series, and can forecast unseen time series without re-training its parameters.\\n\\nA forecasting model provides a function fθ : X  ↦ Y, with X the feature space and Y the dependent variable space. We consider the setting with X = {y[0:t], x[0:t+h]} and Y = {y[t+1:t+h]}, where h is the forecast horizon, y is the target time series, and x are exogenous covariates. The forecasting task objective is to estimate the following conditional distribution:\\n\\nP(y[t+1:t+h]| y[0:t], x[0:t+h]) = fθ(y[0:t], x[0:t+h]) (1)\\n\\nQuestion:\\nHow does TimeGPT approach time-series forecasting?\\n\\nAnswer:\\n', 'model': 'meta-llama/Meta-Llama-3.1-8B-Instruct', 'temperature': 0.0, 'max_tokens': 500, 'repetition_penalty': 1.2, 'stop': [\"I don't know.\"]}\n"
     ]
    },
    {
     "data": {
      "text/markdown": [
       "**Domanda:** How does TimeGPT approach time-series forecasting?\n",
       "\n",
       "**Risposta:** According to the given context, TimeGPT approaches time-series forecasting using a Transformer-based architecture with self-attention mechanisms inspired by Vaswani et al.'s work [2017]. It utilizes a combination of an encoder-decoder structure with multiple layers, incorporating residual connections and layer normalization. Additionally, it employs local positional encoding to enhance the input. Furthermore, TimeGPT produces forecasts directly from the previously observed historical values without requiring retraining or adjusting its weights (\"zero-shot\"). This allows it to generate accurate predictions across various domains and frequencies without extensive computation or manual intervention. I do not know if there's anything else beyond what's mentioned here regarding TimeGPT's specific methodology for approaching time-series forecasting. However, the text highlights several key aspects such as utilizing prior knowledge through zero-shot learning, leveraging transformer architectures effectively, and focusing on capturing temporal relationships within sequences via self-attentive mechanisms. \n",
       "\n",
       "Note: There might be some minor errors due to formatting issues while copying the content into the question box. Please let me correct them before providing feedback! Thank you so much again for pointing out these mistakes. Have a great day ahead!! \n",
       "Please feel free to ask follow-up questions or request further clarification if needed. I'll make sure my responses remain grounded in the original context."
      ],
      "text/plain": [
       "<IPython.core.display.Markdown object>"
      ]
     },
     "metadata": {},
     "output_type": "display_data"
    }
   ],
   "source": [
    "start_time = time.time()\n",
    "\n",
    "await ask_question_naive(query_global5)\n",
    "\n",
    "end_time = time.time()\n",
    "time_global_naive5 = end_time - start_time"
   ]
  },
  {
   "cell_type": "markdown",
   "metadata": {},
   "source": [
    "#### 1.3.3 Confronto dei tempi"
   ]
  },
  {
   "cell_type": "code",
   "execution_count": 86,
   "metadata": {},
   "outputs": [],
   "source": [
    "data_global = {\n",
    "    'Domanda': [1, 2, 3, 4, 5],\n",
    "    'Time Naive': [time_global_naive1, time_global_naive2, time_global_naive3, time_global_naive4, time_global_naive5],\n",
    "    'Time GraphRAG': [time_global_graph1, time_global_graph2, time_global_graph3, time_global_graph4, time_global_graph5]\n",
    "}\n",
    "\n",
    "df_global = pd.DataFrame(data_global)\n"
   ]
  },
  {
   "cell_type": "code",
   "execution_count": 88,
   "metadata": {},
   "outputs": [
    {
     "name": "stdout",
     "output_type": "stream",
     "text": [
      "   Domanda  Time Naive  Time GraphRAG\n",
      "0        1   10.697026      21.665362\n",
      "1        2    7.139635      25.449770\n",
      "2        3    7.620632      20.155527\n",
      "3        4    4.787009      21.762643\n",
      "4        5    5.555050      23.262753\n"
     ]
    }
   ],
   "source": [
    "print(df_global)"
   ]
  },
  {
   "cell_type": "code",
   "execution_count": 89,
   "metadata": {},
   "outputs": [],
   "source": [
    "mean_global_naive = df_global['Time Naive'].mean()\n",
    "mean_global_graph = df_global['Time GraphRAG'].mean()"
   ]
  },
  {
   "cell_type": "code",
   "execution_count": 90,
   "metadata": {},
   "outputs": [
    {
     "name": "stdout",
     "output_type": "stream",
     "text": [
      "Tempo medio Naive: 7.16 secondi\n",
      "Tempo medio GraphRAG: 22.46 secondi\n"
     ]
    }
   ],
   "source": [
    "print(f\"Tempo medio Naive: {mean_global_naive:.2f} secondi\")\n",
    "print(f\"Tempo medio GraphRAG: {mean_global_graph:.2f} secondi\")"
   ]
  },
  {
   "cell_type": "code",
   "execution_count": 94,
   "metadata": {},
   "outputs": [
    {
     "data": {
      "image/png": "[encoded data removed]",
      "text/plain": [
       "<Figure size 1000x600 with 1 Axes>"
      ]
     },
     "metadata": {},
     "output_type": "display_data"
    }
   ],
   "source": [
    "df_global.plot(x='Domanda', y=['Time Naive', 'Time GraphRAG'], kind='bar', figsize=(10, 6))\n",
    "plt.title('Confronto Tempi Naive vs GraphRAG per Domanda')\n",
    "plt.ylabel('Tempo (secondi)')\n",
    "plt.show()"
   ]
  },
  {
   "cell_type": "code",
   "execution_count": 96,
   "metadata": {},
   "outputs": [
    {
     "data": {
      "image/png": "[encoded data removed]",
      "text/plain": [
       "<Figure size 600x400 with 1 Axes>"
      ]
     },
     "metadata": {},
     "output_type": "display_data"
    }
   ],
   "source": [
    "plt.figure(figsize=(6, 4))\n",
    "plt.bar(['Naive', 'GraphRAG'], [mean_global_naive, mean_global_graph], color=['blue', 'green'])\n",
    "plt.title('Confronto Tempi Medi: Naive vs GraphRAG')\n",
    "plt.ylabel('Tempo Medio (secondi)')\n",
    "plt.show()"
   ]
  },
  {
   "cell_type": "markdown",
   "metadata": {},
   "source": [
    "## 2. Valutazione su domande locali"
   ]
  },
  {
   "cell_type": "markdown",
   "metadata": {},
   "source": [
    "### 2.1 GraphRAG su domande locali"
   ]
  },
  {
   "cell_type": "markdown",
   "metadata": {},
   "source": [
    "#### 2.1.1 Selezione file"
   ]
  },
  {
   "cell_type": "code",
   "execution_count": 97,
   "metadata": {},
   "outputs": [],
   "source": [
    "from graphrag.query.context_builder.entity_extraction import EntityVectorStoreKey\n",
    "from graphrag.query.indexer_adapters import (\n",
    "    read_indexer_covariates,\n",
    "    read_indexer_entities,\n",
    "    read_indexer_relationships,\n",
    "    read_indexer_reports,\n",
    "    read_indexer_text_units,\n",
    ")\n",
    "from graphrag.query.input.loaders.dfs import (\n",
    "    store_entity_semantic_embeddings,\n",
    ")\n",
    "from graphrag.query.llm.oai.chat_openai import ChatOpenAI\n",
    "from graphrag.query.llm.oai.embedding import OpenAIEmbedding\n",
    "from graphrag.query.llm.oai.typing import OpenaiApiType\n",
    "from graphrag.query.question_gen.local_gen import LocalQuestionGen\n",
    "from graphrag.query.structured_search.local_search.mixed_context import (\n",
    "    LocalSearchMixedContext,\n",
    ")\n",
    "from graphrag.query.structured_search.local_search.search import LocalSearch\n",
    "from graphrag.vector_stores.lancedb import LanceDBVectorStore"
   ]
  },
  {
   "cell_type": "code",
   "execution_count": 98,
   "metadata": {},
   "outputs": [
    {
     "name": "stdout",
     "output_type": "stream",
     "text": [
      "The path exists and is not empty.\n"
     ]
    }
   ],
   "source": [
    "file_path = '../../output/20241001-101207/artifacts'\n",
    "\n",
    "if not os.path.exists(file_path) or not os.listdir(file_path):\n",
    "    print(\"The specified path is empty or does not exist.\")\n",
    "else:\n",
    "    print(\"The path exists and is not empty.\")"
   ]
  },
  {
   "cell_type": "code",
   "execution_count": 99,
   "metadata": {},
   "outputs": [],
   "source": [
    "INPUT_DIR = file_path\n",
    "LANCEDB_URI = f\"{INPUT_DIR}/lancedb\"\n",
    "\n",
    "COMMUNITY_REPORT_TABLE = \"create_final_community_reports\"\n",
    "ENTITY_TABLE = \"create_final_nodes\"\n",
    "ENTITY_EMBEDDING_TABLE = \"create_final_entities\"\n",
    "RELATIONSHIP_TABLE = \"create_final_relationships\"\n",
    "COVARIATE_TABLE = \"create_final_covariates\"\n",
    "TEXT_UNIT_TABLE = \"create_final_text_units\"\n",
    "COMMUNITY_LEVEL = 4"
   ]
  },
  {
   "cell_type": "code",
   "execution_count": 100,
   "metadata": {},
   "outputs": [],
   "source": [
    "entity_df = pd.read_parquet(f\"{INPUT_DIR}/{ENTITY_TABLE}.parquet\")\n",
    "nodes_df = pd.read_parquet(f\"{INPUT_DIR}/{ENTITY_EMBEDDING_TABLE}.parquet\")\n",
    "relationship_df = pd.read_parquet(f\"{INPUT_DIR}/{RELATIONSHIP_TABLE}.parquet\")\n",
    "df_report = pd.read_parquet(f\"{INPUT_DIR}/{COMMUNITY_REPORT_TABLE}.parquet\")"
   ]
  },
  {
   "cell_type": "code",
   "execution_count": 101,
   "metadata": {},
   "outputs": [],
   "source": [
    "token_encoder = tiktoken.get_encoding(\"cl100k_base\")"
   ]
  },
  {
   "cell_type": "code",
   "execution_count": 102,
   "metadata": {},
   "outputs": [],
   "source": [
    "report_df = pd.read_parquet(f\"{INPUT_DIR}/{COMMUNITY_REPORT_TABLE}.parquet\")\n",
    "reports = read_indexer_reports(report_df, entity_df, COMMUNITY_LEVEL)\n",
    "\n",
    "entity_df = pd.read_parquet(f\"{INPUT_DIR}/{ENTITY_TABLE}.parquet\")\n",
    "entity_embedding_df = pd.read_parquet(f\"{INPUT_DIR}/{ENTITY_EMBEDDING_TABLE}.parquet\")\n",
    "entities = read_indexer_entities(entity_df, entity_embedding_df, COMMUNITY_LEVEL)\n",
    "\n",
    "relationship_df = pd.read_parquet(f\"{INPUT_DIR}/{RELATIONSHIP_TABLE}.parquet\")\n",
    "relationships = read_indexer_relationships(relationship_df)\n",
    "\n",
    "text_unit_df = pd.read_parquet(f\"{INPUT_DIR}/{TEXT_UNIT_TABLE}.parquet\")\n",
    "text_units = read_indexer_text_units(text_unit_df)"
   ]
  },
  {
   "cell_type": "code",
   "execution_count": 103,
   "metadata": {},
   "outputs": [],
   "source": [
    "entities = read_indexer_entities(entity_df, entity_embedding_df, COMMUNITY_LEVEL)\n",
    "\n",
    "# load description embeddings to an in-memory lancedb vectorstore\n",
    "description_embedding_store = LanceDBVectorStore(\n",
    "    collection_name=\"entity_description_embeddings\",\n",
    ")\n",
    "description_embedding_store.connect(db_uri=LANCEDB_URI)\n",
    "entity_description_embeddings = store_entity_semantic_embeddings(\n",
    "    entities=entities, vectorstore=description_embedding_store\n",
    ")"
   ]
  },
  {
   "cell_type": "code",
   "execution_count": 104,
   "metadata": {},
   "outputs": [
    {
     "data": {
      "text/plain": [
       "True"
      ]
     },
     "execution_count": 104,
     "metadata": {},
     "output_type": "execute_result"
    }
   ],
   "source": [
    "from dotenv import load_dotenv\n",
    "\n",
    "load_dotenv()"
   ]
  },
  {
   "cell_type": "markdown",
   "metadata": {},
   "source": [
    "#### 2.1.2 Definzione dei modelli"
   ]
  },
  {
   "cell_type": "code",
   "execution_count": 105,
   "metadata": {},
   "outputs": [],
   "source": [
    "api_key = os.environ[\"GRAPHRAG_API_KEY\"]\n",
    "\n",
    "llm_model = \"meta-llama/Meta-Llama-3.1-8B-Instruct\"\n",
    "api_base = \"http://172.18.21.132:8000/v1\"\n",
    "\n",
    "llm = ChatOpenAI(\n",
    "    api_key=api_key,\n",
    "    model=llm_model,\n",
    "    api_type=OpenaiApiType.OpenAI,  \n",
    "    api_base=api_base,  \n",
    "    max_retries=20,\n",
    ")\n",
    "\n",
    "token_encoder = tiktoken.get_encoding(\"cl100k_base\")"
   ]
  },
  {
   "cell_type": "code",
   "execution_count": 106,
   "metadata": {},
   "outputs": [],
   "source": [
    "embedding_model = \"nextfire/paraphrase-multilingual-minilm:l12-v2\"  \n",
    "api_base = \"http://localhost:11434/api/embeddings\"\n",
    "\n",
    "text_embedder = OpenAIEmbedding(\n",
    "    api_key=api_key,\n",
    "    api_base=api_base,  \n",
    "    api_type=OpenaiApiType.OpenAI,  \n",
    "    model=embedding_model,\n",
    "    deployment_name=embedding_model,  \n",
    "    max_retries=20\n",
    ")"
   ]
  },
  {
   "cell_type": "markdown",
   "metadata": {},
   "source": [
    "#### 2.1.3 Creazione query-engine per domande locali"
   ]
  },
  {
   "cell_type": "code",
   "execution_count": 107,
   "metadata": {},
   "outputs": [],
   "source": [
    "context_builder = LocalSearchMixedContext(\n",
    "    community_reports=reports,\n",
    "    text_units=text_units,\n",
    "    entities=entities,\n",
    "    relationships=relationships,\n",
    "    covariates=None, \n",
    "    entity_text_embeddings=description_embedding_store,\n",
    "    embedding_vectorstore_key=EntityVectorStoreKey.ID,  \n",
    "    text_embedder=text_embedder,\n",
    "    token_encoder=token_encoder,\n",
    ")"
   ]
  },
  {
   "cell_type": "code",
   "execution_count": 108,
   "metadata": {},
   "outputs": [],
   "source": [
    "local_context_params = {\n",
    "    \"text_unit_prop\": 0.5,\n",
    "    \"community_prop\": 0.1,\n",
    "    \"conversation_history_max_turns\": 5,\n",
    "    \"conversation_history_user_turns_only\": True,\n",
    "    \"top_k_mapped_entities\": 20,\n",
    "    \"top_k_relationships\": 20,\n",
    "    \"include_entity_rank\": True,\n",
    "    \"include_relationship_weight\": True,\n",
    "    \"include_community_rank\": False,\n",
    "    \"return_candidate_context\": False,\n",
    "    \"embedding_vectorstore_key\": EntityVectorStoreKey.ID,  \n",
    "    \"max_tokens\": 6000,  \n",
    "}\n",
    "\n",
    "llm_params = {\n",
    "    \"max_tokens\": 1000, \n",
    "    \"temperature\": 0.0,\n",
    "}"
   ]
  },
  {
   "cell_type": "code",
   "execution_count": 110,
   "metadata": {},
   "outputs": [],
   "source": [
    "search_engine_local = LocalSearch(\n",
    "    llm=llm,\n",
    "    context_builder=context_builder,\n",
    "    token_encoder=token_encoder,\n",
    "    llm_params=llm_params,\n",
    "    context_builder_params=local_context_params,\n",
    "    response_type=\"Single page\",  \n",
    ")"
   ]
  },
  {
   "cell_type": "markdown",
   "metadata": {},
   "source": [
    "#### 2.1.4 Funzioni per esecuzione delle query"
   ]
  },
  {
   "cell_type": "code",
   "execution_count": 111,
   "metadata": {},
   "outputs": [],
   "source": [
    "async def ask_question_graph_local(question):\n",
    "    try:\n",
    "        result = await search_engine_local.asearch(question)\n",
    "        answer = result.response\n",
    "    except Exception as e:\n",
    "        print(f\"Error processing question: {question}\\nException: {e}\")\n",
    "        answer = \"Error: Unable to retrieve answer.\"\n",
    "    return answer"
   ]
  },
  {
   "cell_type": "code",
   "execution_count": 112,
   "metadata": {},
   "outputs": [],
   "source": [
    "async def test_local_graph(question):\n",
    "    answer = await ask_question_graph_local(question)\n",
    "    display(Markdown(f\"**Domanda:** {question}\\n\\n**Risposta:**\\n{answer}\"))"
   ]
  },
  {
   "cell_type": "markdown",
   "metadata": {},
   "source": [
    "### 2.2 RAG Tradizionale su domande locali"
   ]
  },
  {
   "cell_type": "markdown",
   "metadata": {},
   "source": [
    "Viene utilizzata la pipeline definita per le domande globali"
   ]
  },
  {
   "cell_type": "markdown",
   "metadata": {},
   "source": [
    "### 2.3 Confronto su domande locali"
   ]
  },
  {
   "cell_type": "markdown",
   "metadata": {},
   "source": [
    "#### 2.3.1 Selezione di 5 domande locali"
   ]
  },
  {
   "cell_type": "code",
   "execution_count": 113,
   "metadata": {},
   "outputs": [],
   "source": [
    "query_local1 = \"What is the result of the comprehensive evaluation of Chronos models on 42 datasets, as reported in the paper?\"\n",
    "query_local2 = \"What is the architecture of TimeGPT, as described in Section 5.1 of the paper?\"\n",
    "query_local3 = \"How does the tokenization scheme of Lag-Llama work, as described in Section 4.1 of the paper?\"\n",
    "query_local4 = \"What is the evaluation metric used to compare the performance of AnomalyBERT with previous works, as described in Section 4.2?\"\n",
    "query_local5 = \"According to the paper 'Foundation Models for Time Series Analysis: A Tutorial and Survey', what is the primary difference between the proposed taxonomy and previous taxonomies?\""
   ]
  },
  {
   "cell_type": "markdown",
   "metadata": {},
   "source": [
    "#### 2.3.2 Confronto risposte"
   ]
  },
  {
   "cell_type": "markdown",
   "metadata": {},
   "source": [
    "##### 2.3.2.1 Prima Query locale"
   ]
  },
  {
   "cell_type": "markdown",
   "metadata": {},
   "source": [
    "**GraphRAG**"
   ]
  },
  {
   "cell_type": "code",
   "execution_count": 114,
   "metadata": {},
   "outputs": [
    {
     "name": "stderr",
     "output_type": "stream",
     "text": [
      "Warning: No community records added when building community context.\n"
     ]
    },
    {
     "data": {
      "text/markdown": [
       "**Domanda:** What is the result of the comprehensive evaluation of Chronos models on 42 datasets, as reported in the paper?\n",
       "\n",
       "**Risposta:**\n",
       "**Comprehensive Evaluation of Chronos Models**\n",
       "=============================================\n",
       "\n",
       "The paper reports the results of a comprehensive evaluation of Chronos models on 42 datasets, which are divided into three categories: pretraining-only, in-domain evaluation, and zero-shot evaluation.\n",
       "\n",
       "**Pretraining-Only Datasets**\n",
       "-----------------------------\n",
       "\n",
       "The pretraining-only datasets are used to train Chronos models, and the results are not reported in the paper. However, the paper mentions that 13 datasets are used for pretraining, which includes:\n",
       "\n",
       "* Brazilian Cities Temperature\n",
       "* Mexico City Bikes\n",
       "* Solar (5 Min.)\n",
       "* Solar (Hourly)\n",
       "* Spanish Energy and Weather\n",
       "* Taxi (Hourly)\n",
       "* USHCN\n",
       "* Weatherbench (Daily)\n",
       "* Weatherbench (Hourly)\n",
       "\n",
       "**In-Domain Evaluation Datasets**\n",
       "---------------------------------\n",
       "\n",
       "The in-domain evaluation datasets are used to evaluate the performance of Chronos models, and the results are reported in the paper. The paper reports the results of Chronos models on 15 in-domain evaluation datasets, which includes:\n",
       "\n",
       "* Australian Electricity\n",
       "* Electricity (15 Min., Hourly, Weekly)\n",
       "* ERCOT Load\n",
       "* ETT (15 Min., Hourly)\n",
       "* Brazilian Cities Temperature\n",
       "* Mexico City Bikes\n",
       "* Solar (5 Min.)\n",
       "* Solar (Hourly)\n",
       "* Spanish Energy and Weather\n",
       "* Taxi (Hourly)\n",
       "* USHCN\n",
       "* Weatherbench (Daily)\n",
       "* Weatherbench (Hourly)\n",
       "* Electricity\n",
       "* ETT\n",
       "\n",
       "The results show that Chronos models outperform local statistical models on these datasets, with an average improvement of 10.2% in terms of WQL and 12.5% in terms of MASE.\n",
       "\n",
       "**Zero-Shot Evaluation Datasets**\n",
       "---------------------------------\n",
       "\n",
       "The zero-shot evaluation datasets are used to evaluate the performance of Chronos models on unseen datasets, and the results are reported in the paper. The paper reports the results of Chronos models on 27 zero-shot evaluation datasets, which includes:\n",
       "\n",
       "* All the datasets in Benchmark II\n",
       "\n",
       "The results show that Chronos models outperform local statistical models on these datasets, with an average improvement of 15.6% in terms of WQL and 18.2% in terms of MASE.\n",
       "\n",
       "**Overall Results**\n",
       "-------------------\n",
       "\n",
       "The overall results of the comprehensive evaluation of Chronos models on 42 datasets are reported in the paper. The results show that Chronos models outperform local statistical models on all three categories of datasets, with an average improvement of 12.5% in terms of WQL and 15.1% in terms of MASE.\n",
       "\n",
       "**Data References**\n",
       "-------------------\n",
       "\n",
       "This result is supported by multiple data references:\n",
       "\n",
       "* Data: Benchmark I (1-15), Benchmark II (1-27), Pretraining-only datasets (1-13)\n",
       "* Data: In-domain evaluation datasets (1-15), Zero-shot evaluation datasets (1-27)\n",
       "* Data: Overall results (Benchmark I, Benchmark II, Pretraining-only datasets, In-domain evaluation datasets, Zero-shot evaluation datasets)\n",
       "\n",
       "Note that the record ids are not provided in the paper, but the above references provide a general idea of the datasets used in the evaluation."
      ],
      "text/plain": [
       "<IPython.core.display.Markdown object>"
      ]
     },
     "metadata": {},
     "output_type": "display_data"
    }
   ],
   "source": [
    "start_time = time.time()\n",
    "\n",
    "await test_local_graph(query_local1)\n",
    "\n",
    "end_time = time.time()\n",
    "time_local_graph1 = end_time - start_time"
   ]
  },
  {
   "cell_type": "markdown",
   "metadata": {},
   "source": [
    "**RAG tradizionale**"
   ]
  },
  {
   "cell_type": "code",
   "execution_count": 119,
   "metadata": {},
   "outputs": [
    {
     "name": "stdout",
     "output_type": "stream",
     "text": [
      "Payload inviato all'API: {'prompt': '\\nYou are a knowledgeable assistant specialized in answering questions based solely on the provided context. Provide a detailed and well-structured answer, including all relevant information from the context. Ensure your response is comprehensive, faithful to the context, and presented in clear, well-formed sentences. Do not add any information that is not present in the context. If the answer is not explicitly stated in the context, respond with \"I don\\'t know.\"\\n\\nContext:\\n# 5.1 Datasets\\n\\nTo train and evaluate Chronos models, we collected a wide variety of publicly available datasets spanning various application domains including energy, transport, healthcare, retail, web, weather, finance, and with sampling frequencies ranging from 5 minutes up to yearly. The complete list of datasets, together with their respective sources and additional details, is given in Appendix B. In total, our dataset collection comprises 55 datasets from multiple sources, including the Monash Time Series Forecasting Repository (Godahewa et al., 2021), the M-competitions (Makridakis et al., 1979; Makridakis & Hibon, 2000; Makridakis et al., 2020; 2022), and public domain datasets from Kaggle.\\n\\n. Overall, we used 28 datasets for training Chronos models, consisting of about 890K univariate time series with approximately 84B observations (tokens) in total. For both in-domain (I) and zero-shot (II) benchmark datasets, we used the last H ∈ N+ observations of each time series as a held-out test set: all models are judged by the accuracy of their forecast on such held-out set, which no model had access to for training purposes. The prediction\\n\\nWe categorize this collection into three subsets, based on how we use them for training and evaluating Chronos models: (a) datasets exclusively used for training (13 datasets); (b) Benchmark I datasets, employed for both training and evaluation, representing an in-domain evaluation (15 datasets); and (c) Benchmark II datasets, used solely for evaluation, constituting a zero-shot evaluation (27 datasets). In categorizing the datasets in this way, we tried to find a good balance between keeping as many datasets as possible for the zero-shot evaluation of Chronos models, among the ones most commonly used in the literature, while still having enough variety of domains and sampling frequencies in the training data. Overall, we used 28 datasets for training Chronos models, consisting of about 890K univariate time series with approximately 84B observations (tokens) in total\\n\\nOur code and model checkpoints are available at https://github.com/amazon-science/chronos-forecasting.\\n\\nSome models (GPT4TS and ForecastPFN) only generate point forecasts and we only evaluate those.\\n# 5.5 Main Results\\n\\nIn this section, we present our main results on 42 datasets, which comprise Benchmark I (15 datasets) and Benchmark II (27 datasets). Chronos models surpass classical statistical baselines, task-specific deep learning models, and other pretrained models on the in-domain datasets (Benchmark I; see Section 5.5.1). On the zero-shot datasets (Benchmark II; Section 5.5.2), Chronos models comfortably outperform statistical baselines and other pretrained models, while performing on par with the best deep learning models trained on these tasks. With an inexpensive fine-tuning regimen, our Chronos-T5 (Small) model achieves the top spot on Benchmark II, significantly outperforming all baselines.\\n\\n# 5.5.1 Benchmark I: In-domain Results\\n\\n# Fine tuning\\n\\nMotivated by the remarkable zero-shot performance of Chronos models, we conducted a preliminary investigation into fine-tuning Chronos models individually on datasets from Benchmark II.\\n\\n|Chronos-T5 (Small)|Zero Shot|Fine Tuned|\\n|---|---|---|\\n|WQL|0.672|0.608|\\n|MASE|0.856|0.782|\\n\\nQuestion:\\nWhat is the result of the comprehensive evaluation of Chronos models on 42 datasets, as reported in the paper?\\n\\nAnswer:\\n', 'model': 'meta-llama/Meta-Llama-3.1-8B-Instruct', 'temperature': 0.0, 'max_tokens': 500, 'repetition_penalty': 1.2, 'stop': [\"I don't know.\"]}\n"
     ]
    },
    {
     "data": {
      "text/markdown": [
       "**Domanda:** What is the result of the comprehensive evaluation of Chronos models on 42 datasets, as reported in the paper?\n",
       "\n",
       "**Risposta:** According to the text, the comprehensive evaluation of Chronos models on 42 datasets shows that they surpass classical statistical baselines, task-specific deep learning models, and other pre-trained models on the in-domain datasets (Benchmark I). Additionally, on the zero-shot datasets (Benchmark II), Chronos models comfortably outperform statistical baselines and other pre-trained models, while performing on par with the best deep learning models trained on these tasks. Furthermore, it was found that with an inexpensive fine-tuning regimen, the Chronos-T5 (Small) model achieved the top spot on Benchmark II, significantly outperforming all baselines. This suggests that Chronos models exhibit strong performance across different types of datasets and evaluation settings. \n",
       "\n",
       "Note: The question does not ask specifically what the results were but rather asks for the overall outcome or conclusion drawn from the evaluation. Therefore, my answer focuses on summarizing the key findings mentioned in the passage without providing specific numerical values unless directly asked for. However, if you'd like me to extract more precise metrics related to the performance of Chronos models, please let me know!"
      ],
      "text/plain": [
       "<IPython.core.display.Markdown object>"
      ]
     },
     "metadata": {},
     "output_type": "display_data"
    }
   ],
   "source": [
    "start_time = time.time()\n",
    "\n",
    "await ask_question_naive(query_local1)\n",
    "\n",
    "end_time = time.time()\n",
    "time_local_naive1 = end_time - start_time"
   ]
  },
  {
   "cell_type": "markdown",
   "metadata": {},
   "source": [
    "##### 2.3.2.2 Seconda Query locale"
   ]
  },
  {
   "cell_type": "markdown",
   "metadata": {},
   "source": [
    "**GraphRAG**"
   ]
  },
  {
   "cell_type": "code",
   "execution_count": 115,
   "metadata": {},
   "outputs": [
    {
     "data": {
      "text/markdown": [
       "**Domanda:** What is the architecture of TimeGPT, as described in Section 5.1 of the paper?\n",
       "\n",
       "**Risposta:**\n",
       "**TimeGPT Architecture**\n",
       "==========================\n",
       "\n",
       "According to Section 5.1 of the paper, the architecture of TimeGPT is described as follows:\n",
       "\n",
       "**Patching**\n",
       "------------\n",
       "\n",
       "TimeGPT uses a patching technique, inspired by the success of patch-based modeling in long-horizon forecasting work. This involves breaking down the time series into patches during training, where a patch is a natural analogue for a token in language models. Patching improves performance and inference speed by reducing the number of tokens fed into the transformer.\n",
       "\n",
       "**Transformer Architecture**\n",
       "---------------------------\n",
       "\n",
       "The TimeGPT architecture is based on a transformer model, which has been shown to be effective in adapting to different context lengths in NLP. The transformer architecture consists of multiple layers, including:\n",
       "\n",
       "* **Multi-Head Attention**: This layer allows the model to attend to different parts of the input sequence simultaneously and weigh their importance.\n",
       "* **CNN**: This layer is used for convolutional neural network operations.\n",
       "* **Add & Norm**: This layer is used for adding and normalizing the output of the previous layers.\n",
       "* **Multi-Head Masked Attention**: This layer is used for masked attention, where the model attends to the input sequence while ignoring certain positions.\n",
       "* **Additional Variables**: This layer is used for additional variables, such as positional encoding and embedding.\n",
       "\n",
       "**Positional Encoding**\n",
       "----------------------\n",
       "\n",
       "TimeGPT uses positional encoding to capture the temporal relationships between different time steps. This is achieved by adding a positional encoding vector to the input embedding.\n",
       "\n",
       "**Embedding**\n",
       "------------\n",
       "\n",
       "The input embedding is used to represent the input time series data in a high-dimensional space. This is achieved by using a learned embedding matrix.\n",
       "\n",
       "**Output**\n",
       "----------\n",
       "\n",
       "The output of the TimeGPT model is a forecast of the future time series values. This is achieved by using a decoder-only architecture, where the model takes the historical values of the target values and additional exogenous variables as inputs to produce the forecasts.\n",
       "\n",
       "**Data References**\n",
       "-------------------\n",
       "\n",
       "This information is supported by the following data references:\n",
       "\n",
       "* [Data: Paper (120), Section 5.1]\n",
       "* [Data: Architecture (1), TimeGPT (2)]"
      ],
      "text/plain": [
       "<IPython.core.display.Markdown object>"
      ]
     },
     "metadata": {},
     "output_type": "display_data"
    }
   ],
   "source": [
    "start_time = time.time()\n",
    "\n",
    "await test_local_graph(query_local2)\n",
    "\n",
    "end_time = time.time()\n",
    "time_local_graph2 = end_time - start_time"
   ]
  },
  {
   "cell_type": "markdown",
   "metadata": {},
   "source": [
    "**RAG tradizionale**"
   ]
  },
  {
   "cell_type": "code",
   "execution_count": 120,
   "metadata": {},
   "outputs": [
    {
     "name": "stdout",
     "output_type": "stream",
     "text": [
      "Payload inviato all'API: {'prompt': '\\nYou are a knowledgeable assistant specialized in answering questions based solely on the provided context. Provide a detailed and well-structured answer, including all relevant information from the context. Ensure your response is comprehensive, faithful to the context, and presented in clear, well-formed sentences. Do not add any information that is not present in the context. If the answer is not explicitly stated in the context, respond with \"I don\\'t know.\"\\n\\nContext:\\n# 5 TimeGPT\\n\\n# 5.1 Architecture\\n\\nTimeGPT is a Transformer-based time series model with self-attention mechanisms based on [Vaswani et al., 2017]. TimeGPT takes a window of historical values to produce the forecast, adding local positional encoding to enrich the input. The architecture consists of an encoder-decoder structure with multiple layers, each with residual connections and layer normalization. Finally, a linear layer maps the decoder’s output to the forecasting window dimension. The general intuition is that attention-based mechanisms are able to capture the diversity of past events and correctly extrapolate potential future distributions.\\n\\n# 5.3 Training TimeGPT\\n\\nTimeGPT underwent a multi-day training period on a cluster of NVIDIA A10G GPUs. During this process, we carried out extensive hyperparameter exploration to optimize learning rates, batch sizes, and other related parameters. We observed a pattern in alignment with findings from [Brown et al., 2020], where a larger batch size and a smaller learning rate proved beneficial. Implemented in PyTorch, TimeGPT was trained using the Adam with a learning rate decay strategy that reduced the rate to 12% of its initial value.\\n\\n# 5.4 Uncertainty quantification\\n\\nWe selected T5 (Raffel et al., 2020) as the main architecture for Chronos in our experiments, since it is available in a variety of sizes, ranging from 16M (Tiny) to 11B (XXL) parameters (Tay et al., 2021). We also conducted experiments with the decoder-only GPT-2 model to demonstrate the applicability of the Chronos framework to decoder-only models. In the following, we discuss the training configurations used for our main results (Section 5.5) and explore alternatives for some of the hyperparameters in Section 5.6.\\n\\n# A PREPRINT\\n\\n# Figure 1\\n\\nWe provide an illustration of the TimesFM model architecture during training, where we show a input time-series of a specific length that can be broken down into input patches. Each patch along is processed into a vector by a residual block (as defined in the model definition) to the model dimension of the transformer layers. The vector is then added to positional encodings and fed into nl stacked transformer layers. SA refers to self-attention (note that we use multi-head causal attention) and FFN is the fully connected layer in the transformer. The output tokens are then mapped through a residual block to an output of size output_patch_len, which is the forecast for the time window following the last input patch seen by the model so far.\\n\\n# Network\\n\\n# 6.3 Time Comparison\\n\\nFor zero-shot inference, our internal tests recorded an average GPU inference speed of 0.6 milliseconds per series for TimeGPT, which nearly mirrors that of the simple Seasonal Naive. As points of comparison, we consider parallel computing-optimized statistical methods, which, when complemented with Numba compiling, averaged a speed of 600 milliseconds per series for training and inference. On the other hand, global models such as LGBM, LSTM, and NHITS demonstrated a more prolonged average of 57 milliseconds per series, considering both training and inference. Due to its zero-shot capabilities, TimeGPT outperforms traditional statistical methods and global models with total speed by orders of magnitude.\\n\\n# 7 Discussion and Future Research\\n\\nQuestion:\\nWhat is the architecture of TimeGPT, as described in Section 5.1 of the paper?\\n\\nAnswer:\\n', 'model': 'meta-llama/Meta-Llama-3.1-8B-Instruct', 'temperature': 0.0, 'max_tokens': 500, 'repetition_penalty': 1.2, 'stop': [\"I don't know.\"]}\n"
     ]
    },
    {
     "data": {
      "text/markdown": [
       "**Domanda:** What is the architecture of TimeGPT, as described in Section 5.1 of the paper?\n",
       "\n",
       "**Risposta:** The architecture of TimeGPT consists of a Transformer-based time series model with self-attention mechanisms based on Vaswani et al. [2017]. It has an encoder-decoder structure with multiple layers, each containing residual connections and layer normalization. Additionally, local positional encoding is added to the input to enrich it. Finally, a linear layer maps the decoder's output to the forecasting window dimension. This design allows attention-based mechanisms to capture the diversity of past events and accurately predict potential future distributions. I do not have further details about the specifics of the number of layers or dimensions involved beyond what is mentioned here. However, according to the text, there isn't explicit mention of these specifications within section 5.1. Therefore, my knowledge stops at describing the overall architectural components without delving deeper due to lack of detail in the given context. \n",
       "\n",
       "Note: Since you asked me to ensure my responses were comprehensive but did not ask specifically how many times I should repeat myself, I chose to include additional contextual information while still being mindful of providing only the requested data. Please let me know if you'd like adjustments made!"
      ],
      "text/plain": [
       "<IPython.core.display.Markdown object>"
      ]
     },
     "metadata": {},
     "output_type": "display_data"
    }
   ],
   "source": [
    "start_time = time.time()\n",
    "\n",
    "await ask_question_naive(query_local2)\n",
    "\n",
    "end_time = time.time()\n",
    "time_local_naive2 = end_time - start_time"
   ]
  },
  {
   "cell_type": "markdown",
   "metadata": {},
   "source": [
    "##### 2.3.2.3 Terza Query locale"
   ]
  },
  {
   "cell_type": "markdown",
   "metadata": {},
   "source": [
    "**GraphRAG**"
   ]
  },
  {
   "cell_type": "code",
   "execution_count": 116,
   "metadata": {},
   "outputs": [
    {
     "name": "stderr",
     "output_type": "stream",
     "text": [
      "Warning: No community records added when building community context.\n"
     ]
    },
    {
     "data": {
      "text/markdown": [
       "**Domanda:** How does the tokenization scheme of Lag-Llama work, as described in Section 4.1 of the paper?\n",
       "\n",
       "**Risposta:**\n",
       "**Tokenization Scheme of Lag-Llama**\n",
       "=====================================\n",
       "\n",
       "The tokenization scheme of Lag-Llama is described in Section 4.1 of the paper. According to the text, the tokenization scheme involves constructing lagged features from the prior values of the time series, constructed according to a specified set of appropriate lag indices.\n",
       "\n",
       "**Lag Indices**\n",
       "---------------\n",
       "\n",
       "The lag indices are a set of positive integers that specify the time intervals between the current and past values of a time series. The lag indices include quarterly, monthly, weekly, daily, hourly, and second-level frequencies.\n",
       "\n",
       "**Lag Operation**\n",
       "-----------------\n",
       "\n",
       "The lag operation is defined as follows:\n",
       "\n",
       "*Note that L refers to the list of lag indices, while L is the last lag index in the sorted list L*\n",
       "\n",
       "lag indices:\n",
       "\n",
       "- sec(t)\n",
       "- min(t)\n",
       "- month(t)\n",
       "\n",
       "time\n",
       "\n",
       "The lag operation is used to construct lagged features from the prior values of the time series.\n",
       "\n",
       "**Tokenization**\n",
       "----------------\n",
       "\n",
       "The tokenization scheme of Lag-Llama involves constructing lagged features from the prior values of the time series, constructed according to the specified set of lag indices. The lagged features are then used to create tokens that are passed through a shared linear projection layer that maps the features to the hidden dimension of the attention module.\n",
       "\n",
       "**Data References**\n",
       "-------------------\n",
       "\n",
       "This description is supported by the following data references:\n",
       "\n",
       "[Data: Sources (138); Relationships (773)]"
      ],
      "text/plain": [
       "<IPython.core.display.Markdown object>"
      ]
     },
     "metadata": {},
     "output_type": "display_data"
    }
   ],
   "source": [
    "start_time = time.time()\n",
    "\n",
    "await test_local_graph(query_local3)\n",
    "\n",
    "end_time = time.time()\n",
    "time_local_graph3 = end_time - start_time"
   ]
  },
  {
   "cell_type": "markdown",
   "metadata": {},
   "source": [
    "**RAG tradizionale**"
   ]
  },
  {
   "cell_type": "code",
   "execution_count": 121,
   "metadata": {},
   "outputs": [
    {
     "name": "stdout",
     "output_type": "stream",
     "text": [
      "Payload inviato all'API: {'prompt': '\\nYou are a knowledgeable assistant specialized in answering questions based solely on the provided context. Provide a detailed and well-structured answer, including all relevant information from the context. Ensure your response is comprehensive, faithful to the context, and presented in clear, well-formed sentences. Do not add any information that is not present in the context. If the answer is not explicitly stated in the context, respond with \"I don\\'t know.\"\\n\\nContext:\\n# 4.1. Tokenization: Lag Features\\n\\nThe tokenization scheme of Lag-Llama involves constructing lagged features from the prior values of the time series, constructed according to a specified set of appropriate lag indices that include quarterly, monthly, weekly, daily, hourly, and second-level frequencies. Given a sorted set of positive lag indices L = {1, . . . , L}*, we define the lag operation:\\n\\n*Note that L refers to the list of lag indices, while L is the last lag index in the sorted list L\\n\\nlag indices:\\n\\n- sec(t)\\n- min(t)\\n- month(t)\\n\\ntime\\n\\nFigure 1: For a time series, we depict the tokenization at the timestep t of the value xt which contains lag features constructed using an example set of lag indices L, where each value in the vector is from the past of xt (in blue), and F possible temporal covariates (date-time features) constructed from timestamp t (red).\\n\\n¶This is since a history of L points in time is needed for all points in the context, starting from the first point in the context.\\n# Lag-Llama\\n\\nas in LLaMA (Touvron et al., 2023). After passing through the causally masked transformer layers, the model predicts the parameters ϕ of the forecast log prob distribution of the next timestep, where the parameters are output by a parametric distribution head, as described in Sec. 4.3. The negative log-likelihood of the predicted distribution of all predicted timesteps is minimized.\\n\\n# 4.5 MODEL ANALYSIS\\n\\n# Language Model Variants\\n\\nWe compare two representative backbones with varying capacities. Our results indicate that the scaling law retains after the LLM reprogramming. We adopt Llama-7B by default in its full capacity, which manifestly outperforms its 1/4 capacity variant by 14.5%. An average MSE reduction of 14.7% is observed over GPT-2, which slightly outperforms its variant GPT-2 (6) by 2.7%.\\n\\n# Cross-modality Alignment\\n\\n# 4.4. Value Scaling\\n\\nWhen training on a large corpus of time series data from different datasets and domains, each time series can be of different numerical magnitude. Since we pretrain a foundation model over such data, we utilize the scaling heuristic (Salinas et al., 2019b) where for each univariate window, we calculate its mean value μi = ∑t=1C xi / C and variance σi. We can then replace the time series xt with {(xit - μi) / σi}t=1. We also incorporate μi and σi as time independent real-valued covariates for each token, to give the model information of the statistics of the inputs, which we call summary statistics.\\n\\n# 4.5. Training Strategies\\n\\nWe employ a series of training strategies to effectively pre-train Lag-Llama on the corpus of datasets. Firstly, we find that employing a stratified sampling approach where the datasets in the corpus are weighed by the amount of total.\\n# Lag-Llama\\n\\n# 4.2. Lag-Llama Architecture\\n\\nLag-Llama’s architecture is based on the decoder-only transformer-based architecture LLaMA (Touvron et al., 2023). Fig. 2 shows a general schematic of this model with M decoder layers. A univariate sequence of length xi−L:C along with its covariates is tokenized by concatenating the covariate vectors to a sequence of C tokens xi1:C. These tokens are passed through a shared linear projection layer that maps the features to the hidden dimension of the attention module. Similar to in Touvron et al. (2023), Lag-Llama incorporates pre-normalization via the RMSNorm (Zhang & Sennrich, 2019) and Rotary Positional Encoding (RoPE) (Su et al., 2021) at each attention layer’s query and key representations.\\n\\n¶This is since a history of L points in time is needed for all points in the context, starting from the first point in the context.\\n# Lag-Llama\\n\\nQuestion:\\nHow does the tokenization scheme of Lag-Llama work, as described in Section 4.1 of the paper?\\n\\nAnswer:\\n', 'model': 'meta-llama/Meta-Llama-3.1-8B-Instruct', 'temperature': 0.0, 'max_tokens': 500, 'repetition_penalty': 1.2, 'stop': [\"I don't know.\"]}\n"
     ]
    },
    {
     "data": {
      "text/markdown": [
       "**Domanda:** How does the tokenization scheme of Lag-Llama work, as described in Section 4.1 of the paper?\n",
       "\n",
       "**Risposta:** According to Section 4.1, the tokenization scheme of Lag-Llama involves constructing lagged features from the prior values of the time series, constructed according to a specified set of appropriate lag indices that include quarterly, monthly, weekly, daily, hourly, and second-level frequencies. Specifically, given a sorted set of positive lag indices L = {1,..., L}, the lag operation constructs lag features from the prior values of the time series. This means that a history of L points in time is needed for all points in the context, starting from the first point in the context. Additionally, the lag indices used in the construction of lag features are defined as follows: sec(t), min(t), and month(t), where t represents the current time step. Figure 1 illustrates how the tokenization works at the timestep t, showing the lag features constructed using an example set of lag indices L, along with F possible temporal covariates (date-time features) constructed from timestamp t. Overall, the tokenization scheme of Lag-Llama aims to capture the historical dependencies between consecutive time steps in the input time series. I do not have more specific details about the implementation or mathematical formulation of the tokenization process beyond what has been mentioned in Section 4.1. However, it appears that the goal is to create a representation of the input time series that captures both short-term and long-term patterns and relationships."
      ],
      "text/plain": [
       "<IPython.core.display.Markdown object>"
      ]
     },
     "metadata": {},
     "output_type": "display_data"
    }
   ],
   "source": [
    "start_time = time.time()\n",
    "\n",
    "await ask_question_naive(query_local3)\n",
    "\n",
    "end_time = time.time()\n",
    "time_local_naive3 = end_time - start_time"
   ]
  },
  {
   "cell_type": "markdown",
   "metadata": {},
   "source": [
    "##### 2.3.2.4 Quarta Query locale"
   ]
  },
  {
   "cell_type": "markdown",
   "metadata": {},
   "source": [
    "**GraphRAG**"
   ]
  },
  {
   "cell_type": "code",
   "execution_count": 117,
   "metadata": {},
   "outputs": [
    {
     "name": "stderr",
     "output_type": "stream",
     "text": [
      "Warning: No community records added when building community context.\n"
     ]
    },
    {
     "data": {
      "text/markdown": [
       "**Domanda:** What is the evaluation metric used to compare the performance of AnomalyBERT with previous works, as described in Section 4.2?\n",
       "\n",
       "**Risposta:**\n",
       "# Evaluation Metric for AnomalyBERT\n",
       "\n",
       "According to the provided text, the evaluation metric used to compare the performance of AnomalyBERT with previous works is the F1 score.\n",
       "\n",
       "## F1 Score\n",
       "\n",
       "The F1 score is a widely used metric in machine learning and data science to evaluate the performance of models, particularly in the context of anomaly detection. It is the harmonic mean of precision and recall, providing a balanced evaluation of a model's ability to correctly identify both true positives and true negatives.\n",
       "\n",
       "## Comparison with Previous Works\n",
       "\n",
       "The F1 score is used to compare the performance of AnomalyBERT with previous works, as described in Section 4.2. The results show that AnomalyBERT outperforms previous methods on five benchmark datasets, achieving improvement of up to 17.06% in F1 score.\n",
       "\n",
       "## Data References\n",
       "\n",
       "This information is supported by the following data references:\n",
       "\n",
       "* Section 4.2 of the text, which describes the evaluation metric used to compare the performance of AnomalyBERT with previous works.\n",
       "* The results table in Section 4.3, which shows the F1 score of AnomalyBERT and previous methods on five benchmark datasets.\n",
       "\n",
       "Note: The F1 score is also mentioned in the description of the entity \"F1 SCORE\" in the Entities table, but this is a separate entity from the evaluation metric used to compare the performance of AnomalyBERT with previous works."
      ],
      "text/plain": [
       "<IPython.core.display.Markdown object>"
      ]
     },
     "metadata": {},
     "output_type": "display_data"
    }
   ],
   "source": [
    "start_time = time.time()\n",
    "\n",
    "await test_local_graph(query_local4)\n",
    "\n",
    "end_time = time.time()\n",
    "time_local_graph4 = end_time - start_time"
   ]
  },
  {
   "cell_type": "markdown",
   "metadata": {},
   "source": [
    "**RAG tradizionale**"
   ]
  },
  {
   "cell_type": "code",
   "execution_count": 122,
   "metadata": {},
   "outputs": [
    {
     "name": "stdout",
     "output_type": "stream",
     "text": [
      "Payload inviato all'API: {'prompt': '\\nYou are a knowledgeable assistant specialized in answering questions based solely on the provided context. Provide a detailed and well-structured answer, including all relevant information from the context. Ensure your response is comprehensive, faithful to the context, and presented in clear, well-formed sentences. Do not add any information that is not present in the context. If the answer is not explicitly stated in the context, respond with \"I don\\'t know.\"\\n\\nContext:\\n# 4.4 MAIN RESULTS\\n\\nWe report the results of AnomalyBERT on the five real-world datasets introduced in Section 4.1, and compare them to those of the previous works. The reproduced evaluation scores are brought from Kim et al. (2022). In Table 2, we show that AnomalyBERT outperforms the previous methods on\\n# Presented at the ICLR 2023 workshop on Machine Learning for IoT: Datasets, Perception, and Understanding\\n\\n# Table 2: F1-scores for various anomaly detection methods and AnomalyBERT on five benchmark datasets.\\n\\nWe report the standard F1 and F1-scores after point adjustment (F1PA) following the protocol in Kim et al. (2022). Our method outperforms all existing methods with F1.\\n\\n# B VISUAL RESULTS\\n\\nWe visualize the prediction results of AnomalyBERT and present the 2D projections of the original data and latent features in the model. Similar to Figure 1, we select three abnormal windows in each of SWaT, WADI, and SMAP test sets and fetch the corresponding anomaly scores after the score prediction process. We then project the original data points and the last latent features from the abnormal windows into 2D planes using t-SNE. As shown in Figure 5, our method distinguishes anomalies successfully and separates abnormal data points from normal points well.\\n\\n# SWaT\\n\\n# WADI\\n\\n# SMAP\\n\\n# Figure 5: Visualization of anomaly score predictions on abnormal sequences in SWaT, WADI, and SMAP datasets.\\n\\n# 4.2.2 Anomaly Diagnosis\\n\\nWe use commonly used metrics to measure the diagnosis performance of all models [62]. HitRate@P% is the measure of how many ground truth dimensions have been included in the top candidates predicted by the model [45]. P% is the percentage of the ground truth dimensions for each timestamp, which we use to consider the top predicted candidates. For instance, if at timestamp t, if 2 dimensions are labeled anomalous in the ground truth, HitRate@100% would consider top 2 dimensions and HitRate@150% would consider 3 dimensions (100 and 150 are chosen based on prior work [62]). We also measure the Normalized Discounted Cumulative Gain (NDCG) [24]. NDCG@P% considers the same number of top predicted candidates as HitRate@P%.\\n\\n# 4.3 Results\\n\\n# Evaluation\\n\\nAnomaly scores (Eq. 2) exceeding a threshold δ are identified as anomalies. Performance is evaluated using the F1-score for threshold-dependent evaluation. Here, we follow [17] by setting δ to label a predefined proportion of data points as anomalies (0.5% for SMD, 1% for others). For threshold-independent analysis, we use AUC-ROC, AUC-PR, VUS-ROC, and VUS-PR metrics [21]. We exclude the point-adjustment method [22] due to its overestimation [23]. Our model is compared against baselines and state-of-the-arts models: LSTM [9], vanilla Transformer [17], USAD [13], PatchAD [12], AnomalyTrans [17], and DCdetector [10].\\n\\n1 https://github.com/Raminghorbanii/RESTAD\\n# RESTAD: REconstruction and Similarity based Transformer for time series Anomaly Detection\\n\\n# Table 1: Performance metrics of baselines and RESTAD on test sets.\\n\\nInitialization methods are denoted as (R) for Random and (K) for K-means. For all measures, a higher value indicates better anomaly detection performance.\\n\\n# 4 Experiments\\n\\nWe compare TranAD with state-of-the-art models for multivariate time-series anomaly detection, including MERLIN, LSTM-NDT (with autoencoder implementation from openGauss), DAGMM, OmniAnomaly, MSCRED, MAD-GAN, USAD, MTAD-GAT, CAE-M and GDN (with graph embedding implementation from GraphAn). For more details refer Section 2.1. We also tested the Isolation Forest method, but due to its low F1 scores, do not include the corresponding results in our discussion. Other classical methods have been omitted as well.\\n\\nQuestion:\\nWhat is the evaluation metric used to compare the performance of AnomalyBERT with previous works, as described in Section 4.2?\\n\\nAnswer:\\n', 'model': 'meta-llama/Meta-Llama-3.1-8B-Instruct', 'temperature': 0.0, 'max_tokens': 500, 'repetition_penalty': 1.2, 'stop': [\"I don't know.\"]}\n"
     ]
    },
    {
     "data": {
      "text/markdown": [
       "**Domanda:** What is the evaluation metric used to compare the performance of AnomalyBERT with previous works, as described in Section 4.2?\n",
       "\n",
       "**Risposta:** The evaluation metric used to compare the performance of AnomalyBERT with previous works is the F1-score. Specifically, it is mentioned that the standard F1 and F1-scores after point adjustment (F1PA) are reported, following the protocol in Kim et al. (2022). Additionally, it is noted that AnomalyBERT outperforms all existing methods with respect to this metric. However, no specific comparison or numerical values regarding other evaluation metrics such as AUC-ROC, AUC-PR, VUS-ROC, and VUS-PR are discussed in relation to comparing AnomalyBERT's performance with previous works within Section 4.2. \n",
       "\n",
       "However, according to section 4.3, when evaluating the performance of different models, several metrics like F1-score, AUC-ROC, AUC-PR, VUS-ROC, and VUS-PR are considered. But again, these comparisons were made between different models rather than specifically focusing on comparing AnomalyBERT’s performance with previous works within Section 4.2. Therefore, while multiple metrics might be utilized across sections, only the F1-score is directly associated with comparing AnomalyBERT with previous works within Section 4.2. \n",
       "Therefore, my final answer will focus on what was asked - the evaluation metric used to compare AnomalyBERT with previous works within Section 4.2.\n",
       "The correct answer is therefore: The F1-score."
      ],
      "text/plain": [
       "<IPython.core.display.Markdown object>"
      ]
     },
     "metadata": {},
     "output_type": "display_data"
    }
   ],
   "source": [
    "start_time = time.time()\n",
    "\n",
    "await ask_question_naive(query_local4)\n",
    "\n",
    "end_time = time.time()\n",
    "time_local_naive4 = end_time - start_time"
   ]
  },
  {
   "cell_type": "markdown",
   "metadata": {},
   "source": [
    "##### 2.3.2.5 Quinta Query locale"
   ]
  },
  {
   "cell_type": "markdown",
   "metadata": {},
   "source": [
    "**GraphRAG**"
   ]
  },
  {
   "cell_type": "code",
   "execution_count": 118,
   "metadata": {},
   "outputs": [
    {
     "data": {
      "text/markdown": [
       "**Domanda:** According to the paper 'Foundation Models for Time Series Analysis: A Tutorial and Survey', what is the primary difference between the proposed taxonomy and previous taxonomies?\n",
       "\n",
       "**Risposta:**\n",
       "**Primary Difference between Proposed Taxonomy and Previous Taxonomies**\n",
       "===========================================================\n",
       "\n",
       "According to the paper 'Foundation Models for Time Series Analysis: A Tutorial and Survey', the primary difference between the proposed taxonomy and previous taxonomies is the methodology-centric view. The proposed taxonomy delves deeper into the foundation models from the methodology perspective, focusing on their architectural designs, pre-training, and adaptation techniques.\n",
       "\n",
       "**Data: Taxonomy (1)**\n",
       "--------------------\n",
       "\n",
       "This is supported by the following data reference:\n",
       "\n",
       "* The paper states that the proposed taxonomy \"unfolds a structured and comprehensive classification to enhance the understanding of foundation models on time series analysis\" [Data: Taxonomy (1)].\n",
       "* The taxonomy is organized into four hierarchical levels, starting with the data category, followed by the model architecture, pre-training techniques, and finally, the application domain [Data: Taxonomy (1)].\n",
       "* The paper highlights that the proposed taxonomy distinguishes itself by delving deeper into the foundation models from the methodology perspective [Data: Taxonomy (1)].\n",
       "\n",
       "**Methodology-Centric View**\n",
       "---------------------------\n",
       "\n",
       "The proposed taxonomy's methodology-centric view is pivotal for researchers, providing valuable insights into the mechanisms of why and how foundation models show great potential for time series analysis.\n",
       "\n",
       "**Data: Taxonomy (1)**\n",
       "--------------------\n",
       "\n",
       "This is supported by the following data reference:\n",
       "\n",
       "* The paper states that the proposed taxonomy \"is pivotal for researchers, providing valuable insights into the mechanisms of why and how foundation models show great potential for time series analysis\" [Data: Taxonomy (1)].\n",
       "\n",
       "Overall, the primary difference between the proposed taxonomy and previous taxonomies is the methodology-centric view, which provides a deeper understanding of foundation models from the methodology perspective."
      ],
      "text/plain": [
       "<IPython.core.display.Markdown object>"
      ]
     },
     "metadata": {},
     "output_type": "display_data"
    }
   ],
   "source": [
    "start_time = time.time()\n",
    "\n",
    "await test_local_graph(query_local5)\n",
    "\n",
    "end_time = time.time()\n",
    "time_local_graph5 = end_time - start_time"
   ]
  },
  {
   "cell_type": "markdown",
   "metadata": {},
   "source": [
    "**RAG tradizionale**"
   ]
  },
  {
   "cell_type": "code",
   "execution_count": 126,
   "metadata": {},
   "outputs": [
    {
     "name": "stdout",
     "output_type": "stream",
     "text": [
      "Payload inviato all'API: {'prompt': '\\nYou are a knowledgeable assistant specialized in answering questions based solely on the provided context. Provide a detailed and well-structured answer, including all relevant information from the context. Ensure your response is comprehensive, faithful to the context, and presented in clear, well-formed sentences. Do not add any information that is not present in the context. If the answer is not explicitly stated in the context, respond with \"I don\\'t know.\"\\n\\nContext:\\n# 3. Taxonomy\\n\\nThe proposed taxonomy is illustrated in Figure 3, and the related works can be found in Table 2. The proposed taxonomy unfolds a structured and comprehensive classification to enhance the understanding of foundation models on time series analysis. It is organized into four hierarchical levels, starting with the data category, followed by the model architecture, pre-training techniques, and finally, the application domain. Unlike previous taxonomies, ours distinguishes itself by delving deeper into the foundation models from the methodology perspective, with a keen focus on their architectural designs, pre-training, and adaptation techniques. This method-centric view is pivotal for researchers, providing valuable insights into the mechanisms of why and how foundation models show great potential for time series analysis.\\n\\n# 4. Data Perspective\\n\\n- Comprehensive and up-to-date survey. We offer a comprehensive and up-to-date survey on foundation models for a wide spectrum of time series, encompassing standard time series, spatial time series, and other types (i.e., trajectories and events).\\n- Novel methodology-centric taxonomy. We introduce a novel taxonomy that offers a thorough analysis from a methodological standpoint on TSFMs with the first shot, enabling a full understanding of the mechanism on why and how FMs can achieve admirable performance in time series data.\\n- Future research opportunities. We discuss and highlight future avenues for enhancing time series analysis using foundation models, urging researchers to delve deeper into this area.\\n\\n# 2 BACKGROUND\\n\\n# Foundation Models.\\n\\nAuthor names are listed in alphabetical order.\\n# A decoder-only foundation model for time-series forecasting\\n\\n# A PREPRINT\\n\\nIn contrast to previous surveys, this manuscript incorporates the most extensive array of time series data types (see Table 1), spatial time series, as well as other types such as the trajectory and event. We further summarize the developmental roadmap of current TSFMs in Figure 1, in order to foster further innovations and understanding in the dynamic and ever-evolving landscape of TSFMs. In short, our major contributions lie in three aspects:\\n\\n# 4. Data Perspective\\n\\nIn this section, we explore advancements in TSFMs from various data perspectives: standard time series, spatial time series, and others. We further categorize our discussion within each subsection into task-oriented or general-purpose foundation models.\\n\\n# 4.1 Standard Time Series\\n\\nStandard time series possess diverse properties, including varying sampling rates and temporal patterns, which pose significant challenges in developing relevant FMs. These models aim to identify universal patterns within extensive time series data from varied sources, either to enhance specific tasks or for broad analysis.\\n\\nQuestion:\\nAccording to the paper \\'Foundation Models for Time Series Analysis: A Tutorial and Survey\\', what is the primary difference between the proposed taxonomy and previous taxonomies?\\n\\nAnswer:\\n', 'model': 'meta-llama/Meta-Llama-3.1-8B-Instruct', 'temperature': 0.0, 'max_tokens': 500, 'repetition_penalty': 1.2, 'stop': [\"I don't know.\"]}\n"
     ]
    },
    {
     "data": {
      "text/markdown": [
       "**Domanda:** According to the paper 'Foundation Models for Time Series Analysis: A Tutorial and Survey', what is the primary difference between the proposed taxonomy and previous taxonomies?\n",
       "\n",
       "**Risposta:** Unlike previous taxonomies, the proposed taxonomy delves deeper into the foundation models from the methodology perspective, focusing on their architectural designs, pre-training, and adaptation techniques. This provides a more method-centric view, offering valuable insights into the mechanisms behind the effectiveness of foundation models for time series analysis. I don't know if there's anything else you'd like me to clarify about it!"
      ],
      "text/plain": [
       "<IPython.core.display.Markdown object>"
      ]
     },
     "metadata": {},
     "output_type": "display_data"
    }
   ],
   "source": [
    "start_time = time.time()\n",
    "\n",
    "await ask_question_naive(query_local5)\n",
    "\n",
    "end_time = time.time()\n",
    "time_local_naive5 = end_time - start_time"
   ]
  },
  {
   "cell_type": "markdown",
   "metadata": {},
   "source": [
    "#### 2.3.3 Confronto dei tempi"
   ]
  },
  {
   "cell_type": "code",
   "execution_count": 124,
   "metadata": {},
   "outputs": [],
   "source": [
    "data_local = {\n",
    "    'Domanda': [1, 2, 3, 4, 5],\n",
    "    'Time Naive Local': [time_local_naive1, time_local_naive2, time_local_naive3, time_local_naive4, time_local_naive5],\n",
    "    'Time GraphRAG Local': [time_local_graph1, time_local_graph2, time_local_graph3, time_local_graph4, time_local_graph5]\n",
    "}"
   ]
  },
  {
   "cell_type": "code",
   "execution_count": 125,
   "metadata": {},
   "outputs": [
    {
     "name": "stdout",
     "output_type": "stream",
     "text": [
      "   Domanda  Time Naive Local  Time GraphRAG Local\n",
      "0        1          4.861367            15.411427\n",
      "1        2          4.925380            10.787562\n",
      "2        3          6.224860             7.304714\n",
      "3        4          6.420222             7.280919\n",
      "4        5          1.753119             8.774920\n"
     ]
    }
   ],
   "source": [
    "df_local = pd.DataFrame(data_local)\n",
    "\n",
    "print(df_local)"
   ]
  },
  {
   "cell_type": "code",
   "execution_count": 128,
   "metadata": {},
   "outputs": [
    {
     "name": "stdout",
     "output_type": "stream",
     "text": [
      "Tempo medio Naive Local: 4.84 secondi\n",
      "Tempo medio GraphRAG Local: 9.91 secondi\n"
     ]
    }
   ],
   "source": [
    "mean_naive_local = df_local['Time Naive Local'].mean()\n",
    "mean_graph_local = df_local['Time GraphRAG Local'].mean()\n",
    "\n",
    "print(f\"Tempo medio Naive Local: {mean_naive_local:.2f} secondi\")\n",
    "print(f\"Tempo medio GraphRAG Local: {mean_graph_local:.2f} secondi\")"
   ]
  },
  {
   "cell_type": "code",
   "execution_count": 129,
   "metadata": {},
   "outputs": [
    {
     "data": {
      "image/png": "[encoded data removed]",
      "text/plain": [
       "<Figure size 1000x600 with 1 Axes>"
      ]
     },
     "metadata": {},
     "output_type": "display_data"
    }
   ],
   "source": [
    "df_local.plot(x='Domanda', y=['Time Naive Local', 'Time GraphRAG Local'], kind='bar', figsize=(10, 6))\n",
    "plt.title('Confronto Tempi Naive Local vs GraphRAG Local per Domanda')\n",
    "plt.ylabel('Tempo (secondi)')\n",
    "plt.show()"
   ]
  },
  {
   "cell_type": "code",
   "execution_count": 130,
   "metadata": {},
   "outputs": [
    {
     "data": {
      "image/png": "[encoded data removed]",
      "text/plain": [
       "<Figure size 600x400 with 1 Axes>"
      ]
     },
     "metadata": {},
     "output_type": "display_data"
    }
   ],
   "source": [
    "plt.figure(figsize=(6, 4))\n",
    "plt.bar(['Naive Local', 'GraphRAG Local'], [mean_naive_local, mean_graph_local], color=['blue', 'green'])\n",
    "plt.title('Confronto Tempi Medi: Naive Local vs GraphRAG Local')\n",
    "plt.ylabel('Tempo Medio (secondi)')\n",
    "plt.show()"
   ]
  },
  {
   "cell_type": "markdown",
   "metadata": {},
   "source": [
    "## 3. Approfondimento query GraphRAG"
   ]
  },
  {
   "cell_type": "code",
   "execution_count": null,
   "metadata": {},
   "outputs": [],
   "source": []
  }
 ],
 "metadata": {
  "kernelspec": {
   "display_name": "PyTorch 2.4.1 (Python 3.11)",
   "language": "python",
   "name": "python3"
  },
  "language_info": {
   "codemirror_mode": {
    "name": "ipython",
    "version": 3
   },
   "file_extension": ".py",
   "mimetype": "text/x-python",
   "name": "python",
   "nbconvert_exporter": "python",
   "pygments_lexer": "ipython3",
   "version": "3.11.10"
  }
 },
 "nbformat": 4,
 "nbformat_minor": 4
}
